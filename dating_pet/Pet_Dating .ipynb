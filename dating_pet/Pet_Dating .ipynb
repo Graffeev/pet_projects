{
 "cells": [
  {
   "cell_type": "code",
   "execution_count": 4,
   "metadata": {
    "id": "7HtDGLe8Amee"
   },
   "outputs": [],
   "source": [
    "import pandas as pd\n",
    "import seaborn as sns\n",
    "import numpy as np\n",
    "import scipy.stats as ss\n",
    "import matplotlib.pyplot as plt\n",
    "from tqdm.auto import tqdm\n",
    "%matplotlib inline"
   ]
  },
  {
   "cell_type": "markdown",
   "metadata": {
    "id": "NUTjmS1n-Tan"
   },
   "source": [
    "Анализ дейтинг приложения.\n",
    "Помимо базовых функций, в приложении также имеется премиум-подписка, которая дает доступ к ряду важных дополнительных возможностей. Был проведен A/B тест, в рамках которого для новых пользователей из нескольких стран была изменена стоимость премиум-подписки при покупке через две новые платежные системы. При этом стоимость пробного периода оставалась прежней. Проверем: Был ли эксперимент успешен в целом. Проанализируем, имеет ли нововведение смысл среди каких-либо конкретных групп пользователей.\n",
    "\n",
    "*Деньги за подписку списываются ежемесячно до тех пор, пока пользователь её не отменит.\n"
   ]
  },
  {
   "cell_type": "code",
   "execution_count": 5,
   "metadata": {
    "id": "2ZhZQncfwuIV"
   },
   "outputs": [],
   "source": [
    "###Сформируем датафреймы и распарсим даты \n",
    "\n",
    "users_test = pd.read_csv(\"users_test.csv\", sep = ';') \n",
    "#информация о пользователях в тестовой группе. \n",
    "\n",
    "users_control_1 = pd.read_csv(\"users_control_1.csv\", sep = ';') \n",
    "#информация о пользователях в первой контрольной группе. \n",
    "\n",
    "users_control_2 = pd.read_csv(\"users_control_2.csv\", sep = ';') \n",
    "#информация о пользователях во второй контрольной группе . \n",
    "\n",
    "transactions_test = pd.read_csv(\"transactions_test.csv\", sep = ';', parse_dates=['joined_at', 'paid_at']) \n",
    "#информация о платежах пользователей в тестовой группе.\n",
    "\n",
    "transactions_control_1 = pd.read_csv(\"transactions_control_1.csv\", sep = ';', parse_dates=['joined_at', 'paid_at']) \n",
    "#информация о платежах пользователей в первой контрольной группе. \n",
    "\n",
    "transactions_control_2 = pd.read_csv(\"transactions_control_2.csv\", sep = ';', parse_dates=['joined_at', 'paid_at']) \n",
    "#информация о платежах пользователей во второй контрольной группе \n"
   ]
  },
  {
   "cell_type": "markdown",
   "metadata": {
    "id": "eN2LvFzbA6sJ"
   },
   "source": [
    "#В начале загрузим данные\n",
    "\n",
    "Всего есть три группы: тестовая (test), контрольная 1 (control_1) и контрольная 2 (control_2).\n",
    "#Данные\n",
    "**users_*.csv** – информация о пользователях:\n",
    "\n",
    "* uid – идентификатор пользователя\n",
    "* age – возраст\n",
    "* attraction_coeff – коэффициент привлекательности (от 0 до 1000) \n",
    "* coins – число монеток (внутренняя валюта) \n",
    "* country – страна\n",
    "* visit_days – в какие дни после регистрации пользователь посещал приложение (напр. в 1, затем в 7) \n",
    "* gender – пол \n",
    "* age_filter_start  – фильтр поиска, мин. значение  \n",
    "* age_filter_end  – фильтр поиска, макс. значение \n",
    "* views_count – число полученных оценок  \n",
    "* was_premium – был ли когда-либо премиум (либо пробный период премиум-статуса, либо купленный за деньги) \n",
    "* is_premium –  является ли премиум \n",
    "* total_revenue – нормированная выручка \n",
    "\n",
    "**transactions_*.csv** – информация о платежах пользователей:\n",
    "\n",
    "* uid – идентификатор пользователя\n",
    "* country – страна\n",
    "* joined_at – дата и время регистрации\n",
    "* paid_at – дата и время покупки\n",
    "* revenue – нормированная выручка\n",
    "* payment_id – идентификатор платежа\n",
    "* from_page – откуда пользователь перешел на страницу оплаты\n",
    "* product_type – тип продукта (trial_premium – пробная премиум-подписка, premium_no_trial – премиум-подписка без пробной, coins – подписка за внутреннюю валюту, other_type – другое)"
   ]
  },
  {
   "cell_type": "code",
   "execution_count": 6,
   "metadata": {
    "colab": {
     "base_uri": "https://localhost:8080/",
     "height": 206
    },
    "id": "3Y6y9g_V8zQB",
    "outputId": "f8478f55-f8ef-49b8-abfd-ac38f61979fa"
   },
   "outputs": [
    {
     "data": {
      "text/html": [
       "<div>\n",
       "<style scoped>\n",
       "    .dataframe tbody tr th:only-of-type {\n",
       "        vertical-align: middle;\n",
       "    }\n",
       "\n",
       "    .dataframe tbody tr th {\n",
       "        vertical-align: top;\n",
       "    }\n",
       "\n",
       "    .dataframe thead th {\n",
       "        text-align: right;\n",
       "    }\n",
       "</style>\n",
       "<table border=\"1\" class=\"dataframe\">\n",
       "  <thead>\n",
       "    <tr style=\"text-align: right;\">\n",
       "      <th></th>\n",
       "      <th>uid</th>\n",
       "      <th>age</th>\n",
       "      <th>attraction_coeff</th>\n",
       "      <th>coins</th>\n",
       "      <th>country</th>\n",
       "      <th>visit_days</th>\n",
       "      <th>gender</th>\n",
       "      <th>age_filter_start</th>\n",
       "      <th>age_filter_end</th>\n",
       "      <th>views_count</th>\n",
       "      <th>was_premium</th>\n",
       "      <th>is_premium</th>\n",
       "      <th>total_revenue</th>\n",
       "    </tr>\n",
       "  </thead>\n",
       "  <tbody>\n",
       "    <tr>\n",
       "      <th>0</th>\n",
       "      <td>892035504</td>\n",
       "      <td>37</td>\n",
       "      <td>137</td>\n",
       "      <td>NaN</td>\n",
       "      <td>Israel</td>\n",
       "      <td>1,2,3,4,5,6,7,8,9,11,13</td>\n",
       "      <td>1</td>\n",
       "      <td>30</td>\n",
       "      <td>40</td>\n",
       "      <td>51</td>\n",
       "      <td>NaN</td>\n",
       "      <td>NaN</td>\n",
       "      <td>0</td>\n",
       "    </tr>\n",
       "    <tr>\n",
       "      <th>1</th>\n",
       "      <td>891782112</td>\n",
       "      <td>57</td>\n",
       "      <td>0</td>\n",
       "      <td>NaN</td>\n",
       "      <td>Italy</td>\n",
       "      <td>1</td>\n",
       "      <td>1</td>\n",
       "      <td>54</td>\n",
       "      <td>60</td>\n",
       "      <td>0</td>\n",
       "      <td>NaN</td>\n",
       "      <td>NaN</td>\n",
       "      <td>0</td>\n",
       "    </tr>\n",
       "    <tr>\n",
       "      <th>2</th>\n",
       "      <td>891110337</td>\n",
       "      <td>30</td>\n",
       "      <td>769</td>\n",
       "      <td>NaN</td>\n",
       "      <td>France</td>\n",
       "      <td>1,2,3,4,5</td>\n",
       "      <td>1</td>\n",
       "      <td>27</td>\n",
       "      <td>33</td>\n",
       "      <td>13</td>\n",
       "      <td>NaN</td>\n",
       "      <td>NaN</td>\n",
       "      <td>0</td>\n",
       "    </tr>\n",
       "    <tr>\n",
       "      <th>3</th>\n",
       "      <td>891796320</td>\n",
       "      <td>48</td>\n",
       "      <td>750</td>\n",
       "      <td>NaN</td>\n",
       "      <td>France</td>\n",
       "      <td>1,4,6,8,10,11,12,14,15,16,18</td>\n",
       "      <td>1</td>\n",
       "      <td>45</td>\n",
       "      <td>51</td>\n",
       "      <td>12</td>\n",
       "      <td>NaN</td>\n",
       "      <td>NaN</td>\n",
       "      <td>0</td>\n",
       "    </tr>\n",
       "    <tr>\n",
       "      <th>4</th>\n",
       "      <td>891880212</td>\n",
       "      <td>54</td>\n",
       "      <td>638</td>\n",
       "      <td>NaN</td>\n",
       "      <td>United States of America</td>\n",
       "      <td>1</td>\n",
       "      <td>1</td>\n",
       "      <td>35</td>\n",
       "      <td>53</td>\n",
       "      <td>94</td>\n",
       "      <td>NaN</td>\n",
       "      <td>NaN</td>\n",
       "      <td>0</td>\n",
       "    </tr>\n",
       "  </tbody>\n",
       "</table>\n",
       "</div>"
      ],
      "text/plain": [
       "         uid  age  attraction_coeff  coins                   country  \\\n",
       "0  892035504   37               137    NaN                    Israel   \n",
       "1  891782112   57                 0    NaN                     Italy   \n",
       "2  891110337   30               769    NaN                    France   \n",
       "3  891796320   48               750    NaN                    France   \n",
       "4  891880212   54               638    NaN  United States of America   \n",
       "\n",
       "                     visit_days  gender  age_filter_start  age_filter_end  \\\n",
       "0       1,2,3,4,5,6,7,8,9,11,13       1                30              40   \n",
       "1                             1       1                54              60   \n",
       "2                     1,2,3,4,5       1                27              33   \n",
       "3  1,4,6,8,10,11,12,14,15,16,18       1                45              51   \n",
       "4                             1       1                35              53   \n",
       "\n",
       "   views_count  was_premium  is_premium  total_revenue  \n",
       "0           51          NaN         NaN              0  \n",
       "1            0          NaN         NaN              0  \n",
       "2           13          NaN         NaN              0  \n",
       "3           12          NaN         NaN              0  \n",
       "4           94          NaN         NaN              0  "
      ]
     },
     "execution_count": 6,
     "metadata": {},
     "output_type": "execute_result"
    }
   ],
   "source": [
    "users_control_2.head()"
   ]
  },
  {
   "cell_type": "markdown",
   "metadata": {
    "id": "rdrrfmoLu3A0"
   },
   "source": [
    "#  Изучение и предподготовка данных"
   ]
  },
  {
   "cell_type": "code",
   "execution_count": 7,
   "metadata": {
    "colab": {
     "base_uri": "https://localhost:8080/"
    },
    "id": "QHs_C6nGwuPy",
    "outputId": "2a0e7c16-f181-474f-86e6-c6c341a35158"
   },
   "outputs": [
    {
     "data": {
      "text/plain": [
       "uid                    0\n",
       "age                    0\n",
       "attraction_coeff       0\n",
       "coins               4259\n",
       "country                0\n",
       "visit_days          1330\n",
       "gender                 0\n",
       "age_filter_start       0\n",
       "age_filter_end         0\n",
       "views_count            0\n",
       "was_premium         3900\n",
       "is_premium          4151\n",
       "total_revenue          0\n",
       "dtype: int64"
      ]
     },
     "execution_count": 7,
     "metadata": {},
     "output_type": "execute_result"
    }
   ],
   "source": [
    "users_test.isna().sum()"
   ]
  },
  {
   "cell_type": "code",
   "execution_count": 8,
   "metadata": {
    "colab": {
     "base_uri": "https://localhost:8080/"
    },
    "id": "4XmySMXivxoh",
    "outputId": "4eb84438-168a-4c66-d6b1-9fcf3070794e"
   },
   "outputs": [
    {
     "data": {
      "text/plain": [
       "uid                 4308\n",
       "age                   57\n",
       "attraction_coeff     600\n",
       "coins                 28\n",
       "country               51\n",
       "visit_days           891\n",
       "gender                 2\n",
       "age_filter_start      51\n",
       "age_filter_end        78\n",
       "views_count          331\n",
       "was_premium            1\n",
       "is_premium             1\n",
       "total_revenue        105\n",
       "dtype: int64"
      ]
     },
     "execution_count": 8,
     "metadata": {},
     "output_type": "execute_result"
    }
   ],
   "source": [
    "users_test.nunique()"
   ]
  },
  {
   "cell_type": "code",
   "execution_count": 9,
   "metadata": {
    "colab": {
     "base_uri": "https://localhost:8080/"
    },
    "id": "BL3B82p-vxmW",
    "outputId": "ba4eb46e-41f2-43ba-80bd-ee7da9be862a"
   },
   "outputs": [
    {
     "data": {
      "text/plain": [
       "uid             146\n",
       "country          17\n",
       "joined_at       146\n",
       "paid_at         258\n",
       "revenue         125\n",
       "payment_id        6\n",
       "from_page        22\n",
       "product_type      4\n",
       "dtype: int64"
      ]
     },
     "execution_count": 9,
     "metadata": {},
     "output_type": "execute_result"
    }
   ],
   "source": [
    "transactions_test.nunique()"
   ]
  },
  {
   "cell_type": "code",
   "execution_count": 10,
   "metadata": {
    "colab": {
     "base_uri": "https://localhost:8080/"
    },
    "id": "EGhIw_5vvxjf",
    "outputId": "06c5ea83-b0d9-4f5e-af15-285ccace11a2"
   },
   "outputs": [
    {
     "data": {
      "text/plain": [
       "uid             630\n",
       "country         630\n",
       "joined_at       630\n",
       "paid_at         630\n",
       "revenue         630\n",
       "payment_id      630\n",
       "from_page       630\n",
       "product_type    630\n",
       "dtype: int64"
      ]
     },
     "execution_count": 10,
     "metadata": {},
     "output_type": "execute_result"
    }
   ],
   "source": [
    " transactions_control_1.isna().sum()"
   ]
  },
  {
   "cell_type": "code",
   "execution_count": 11,
   "metadata": {
    "id": "yXdngeJjvxgt"
   },
   "outputs": [],
   "source": [
    " #удалим пользователей с нулевыми айди\n",
    "transactions_control_1 = transactions_control_1.dropna(subset=['uid'])"
   ]
  },
  {
   "cell_type": "code",
   "execution_count": null,
   "metadata": {
    "id": "RCHsvwE5vxdz"
   },
   "outputs": [],
   "source": []
  },
  {
   "cell_type": "code",
   "execution_count": null,
   "metadata": {
    "id": "aKsurVjBvxa_"
   },
   "outputs": [],
   "source": []
  },
  {
   "cell_type": "code",
   "execution_count": 12,
   "metadata": {
    "id": "hJaU88at-fc0"
   },
   "outputs": [],
   "source": [
    " # Убираем пустые значения\n",
    "transactions_control_1.dropna(inplace=True)\n"
   ]
  },
  {
   "cell_type": "code",
   "execution_count": 13,
   "metadata": {
    "id": "W4380lMn7Qwc"
   },
   "outputs": [],
   "source": [
    "#объединим в один датасет все таблицы с пользователями и с оплатами\n",
    "users_test['group'] = 'test'\n",
    "users_control_1['group'] = 'control_1'\n",
    "users_control_2['group'] = 'control_2'\n",
    "users = users_test.append(users_control_1) \\\n",
    "                  .append(users_control_2) \\\n",
    "                  .fillna(0)\n",
    "\n",
    "transactions_test['group'] = 'test'\n",
    "transactions_control_1['group'] = 'control_1'\n",
    "transactions_control_2['group'] = 'control_2'\n",
    "transactions = transactions_test.append(transactions_control_1) \\\n",
    "                                .append(transactions_control_2)\n",
    "\n",
    "users_transactions = pd.merge(users, transactions, how='left', on=['uid', 'group'])"
   ]
  },
  {
   "cell_type": "code",
   "execution_count": 14,
   "metadata": {
    "id": "k7DqKS_SMq4k"
   },
   "outputs": [],
   "source": [
    "#Создадим возрастные категории  \n",
    "users_transactions['age_category'] = pd.cut(users_transactions.age, [0, 18, 24, 34, 44, 54, 105], right=False, labels=['0-18', '18-24', '25-35', '35-44', '45-54', '55+'])\n",
    "users_test['age_category'] = pd.cut(users_test.age, [0, 18, 24, 34, 44, 54, 105], right=False, labels=['0-18', '18-24', '25-35', '35-44', '45-54', '55+'])\n",
    "users_control_1['age_category'] = pd.cut(users_control_1.age, [0, 18, 24, 34, 44, 54, 105], right=False, labels=['0-18', '18-24', '25-35', '35-44', '45-54', '55+'])\n",
    "users_control_2['age_category'] = pd.cut(users_control_2.age, [0, 18, 24, 34, 44, 54, 105], right=False, labels=['0-18', '18-24', '25-35', '35-44', '45-54', '55+'])"
   ]
  },
  {
   "cell_type": "markdown",
   "metadata": {
    "id": "QRLEWDnIPfAz"
   },
   "source": [
    "## АА тесты для проверки качества сплитования"
   ]
  },
  {
   "cell_type": "markdown",
   "metadata": {
    "id": "aXeeIpzRPobt"
   },
   "source": [
    "У нас А/А/В тест, т.к 2 контроля и 1 тест. Давайте проверим качество сплитования. Для проверки используем следующие метрики:\n",
    "1. ARPPU (средняя выручка с платящего пользователя)\n",
    "2. CR (конверсия в оплату)\n",
    "\n"
   ]
  },
  {
   "cell_type": "code",
   "execution_count": 15,
   "metadata": {
    "colab": {
     "base_uri": "https://localhost:8080/",
     "height": 161,
     "referenced_widgets": [
      "e0d36298f5d04e6fa3a4186ecda9c36c",
      "f7a707dea0be47e393968d5c2343a808",
      "211531ef39174337a90c4cd80990f8ab",
      "014d326a0ea74f3295dcf525aeed1e34",
      "95c57a958ef14e61bcf301db83be7035",
      "077e4cc57bac43408692d042899dc3a1",
      "f01bce7b62ba432d9120497ec8eb2d2a",
      "ca88d413a9764fe994256ef5533737c9",
      "c51bb9f2c9a043a98e574933b5e632e4",
      "cca167a3059c45a096e70309b35a8174",
      "38f8a88a548d493094008b2a9aa1bbe3"
     ]
    },
    "id": "riuETCgcDAwl",
    "outputId": "c3cfe4ac-9685-4382-9b3d-6c5d95179d8c"
   },
   "outputs": [
    {
     "data": {
      "application/vnd.jupyter.widget-view+json": {
       "model_id": "19f75594a8e142a59fd4d52c3a749db1",
       "version_major": 2,
       "version_minor": 0
      },
      "text/plain": [
       "  0%|          | 0/10000 [00:00<?, ?it/s]"
      ]
     },
     "metadata": {},
     "output_type": "display_data"
    },
    {
     "data": {
      "image/png": "[encoded data removed]",
      "text/plain": [
       "<Figure size 432x288 with 1 Axes>"
      ]
     },
     "metadata": {
      "needs_background": "light"
     },
     "output_type": "display_data"
    },
    {
     "data": {
      "text/plain": [
       "0.3749"
      ]
     },
     "execution_count": 15,
     "metadata": {},
     "output_type": "execute_result"
    }
   ],
   "source": [
    "simulations = 10000\n",
    "n_s = 328\n",
    "res = []\n",
    "\n",
    "# Запуск симуляций A/A теста:\n",
    "for i in tqdm(range(simulations)):\n",
    "    s1 = transactions_control_1['revenue'].sample(n_s, replace = False).values\n",
    "    s2 = transactions_control_2['revenue'].sample(n_s, replace = False).values\n",
    "    res.append(ss.ttest_ind(s1, s2, equal_var = False)[1]) # сохраняем pvalue\n",
    "    \n",
    "plt.hist(res, bins = 50)\n",
    "plt.style.use('ggplot')\n",
    "plt.xlabel('pvalues')\n",
    "plt.ylabel('frequency')\n",
    "plt.title(\"Histogram of ttest A/A simulations \")\n",
    "plt.show()\n",
    "\n",
    "# Проверяем, что количество ложноположительных случаев не превышает альфа\n",
    "sum(np.array(res) <0.05) / simulations"
   ]
  },
  {
   "cell_type": "markdown",
   "metadata": {
    "id": "uqoOlDl6CJrw"
   },
   "source": [
    "По первому А/А-тесту видим, что p-value превышает 0.05. Распределение совем не однородное и смещено влево. "
   ]
  },
  {
   "cell_type": "markdown",
   "metadata": {
    "id": "0NGQ7aTzF7SG"
   },
   "source": [
    "Поскольку данных относительно мало, то возможны выбросы. Они, вероятно, и портят статистические показатели. Давайте построим боксплоты, чтобы посмотреть присутствуют ли выбросы в данных\n"
   ]
  },
  {
   "cell_type": "code",
   "execution_count": 16,
   "metadata": {
    "colab": {
     "base_uri": "https://localhost:8080/",
     "height": 92
    },
    "id": "a59gAQ30EhN2",
    "outputId": "dc1b7282-e4df-416d-fb87-9b3d31505139"
   },
   "outputs": [
    {
     "data": {
      "image/png": "[encoded data removed]",
      "text/plain": [
       "<Figure size 720x504 with 1 Axes>"
      ]
     },
     "metadata": {},
     "output_type": "display_data"
    }
   ],
   "source": [
    "data = [transactions_control_1['revenue'], transactions_control_2['revenue']]\n",
    "\n",
    "fig = plt.figure(figsize =(10, 7))\n",
    "ax = fig.add_axes([0, 0, 1, 1])\n",
    "bp = ax.boxplot(data)\n",
    " \n",
    "# show plot\n",
    "plt.show()"
   ]
  },
  {
   "cell_type": "markdown",
   "metadata": {
    "id": "AgGOAixYVqez"
   },
   "source": [
    "Выбросы есть. Давайте избавимся от них и проведем А\\А-тест еще раз"
   ]
  },
  {
   "cell_type": "code",
   "execution_count": 17,
   "metadata": {
    "id": "iGFv_Kz1IKPc"
   },
   "outputs": [],
   "source": [
    "ejection_1 = transactions_control_1['revenue'].describe()[-2] + (1.5 * (transactions_control_1['revenue'].describe()[-2] - transactions_control_1['revenue'].describe()[-4])) #значения выше являются выбросами\n",
    "ejection_2 = transactions_control_2['revenue'].describe()[-2] + (1.5 * (transactions_control_2['revenue'].describe()[-2] - transactions_control_2['revenue'].describe()[-4]))\n",
    "\n",
    "transactions_control_1 = transactions_control_1.query('revenue < @ejection_1')\n",
    "transactions_control_2 = transactions_control_2.query('revenue < @ejection_2')"
   ]
  },
  {
   "cell_type": "code",
   "execution_count": 18,
   "metadata": {
    "colab": {
     "base_uri": "https://localhost:8080/"
    },
    "id": "u3Cm2j2fa-81",
    "outputId": "ccb44e6c-78fc-4e1e-8d52-9a6a9db95b9d"
   },
   "outputs": [
    {
     "data": {
      "text/plain": [
       "12707.5"
      ]
     },
     "execution_count": 18,
     "metadata": {},
     "output_type": "execute_result"
    }
   ],
   "source": [
    "transactions_control_2['revenue'].describe()[-2] + (1.5 * (transactions_control_2['revenue'].describe()[-2] - transactions_control_2['revenue'].describe()[-4]))"
   ]
  },
  {
   "cell_type": "code",
   "execution_count": 19,
   "metadata": {
    "colab": {
     "base_uri": "https://localhost:8080/",
     "height": 161,
     "referenced_widgets": [
      "0e04fb2242fc45af8c43ebb22e1e620d",
      "4f745b7fbc974126b262824cf3e7f1b2",
      "961e2711fdd446318df0b6fdc56c736d",
      "f80d2b1874e5416a9812ffccfd5bd576",
      "30fd5a772c794951b1afceb3e927a750",
      "8d2a10b2f7cf4d8fb26c600798963d23",
      "599dc6ad8e47480b80c792ea9f9e3489",
      "aaffdd357254466e8bb0f99cba1ef8e6",
      "0df8685dccfc437bac90b5389bf1360e",
      "af0d96f1645148cc8e5f6e8f5798f87c",
      "5da83e59a5df4b038d409b1c849d2900"
     ]
    },
    "id": "NjXWsaYWWwZR",
    "outputId": "c5c2e710-b153-4f54-fafc-9cf50c67cd67"
   },
   "outputs": [
    {
     "data": {
      "application/vnd.jupyter.widget-view+json": {
       "model_id": "86816af00a4e44a890e41488a4305849",
       "version_major": 2,
       "version_minor": 0
      },
      "text/plain": [
       "  0%|          | 0/10000 [00:00<?, ?it/s]"
      ]
     },
     "metadata": {},
     "output_type": "display_data"
    },
    {
     "data": {
      "image/png": "[encoded data removed]",
      "text/plain": [
       "<Figure size 432x288 with 1 Axes>"
      ]
     },
     "metadata": {},
     "output_type": "display_data"
    },
    {
     "data": {
      "text/plain": [
       "0.0"
      ]
     },
     "execution_count": 19,
     "metadata": {},
     "output_type": "execute_result"
    }
   ],
   "source": [
    "simulations = 10000\n",
    "n_s = transactions_control_2.shape[0]\n",
    "res = []\n",
    "\n",
    "# Запуск симуляций A/A теста:\n",
    "for i in tqdm(range(simulations)):\n",
    "    s1 = transactions_control_1['revenue'].sample(n_s, replace = False).values\n",
    "    s2 = transactions_control_2['revenue'].sample(n_s, replace = False).values\n",
    "    res.append(ss.ttest_ind(s1, s2, equal_var = False)[1]) # сохраняем pvalue\n",
    "    \n",
    "plt.hist(res, bins = 100)\n",
    "plt.style.use('ggplot')\n",
    "plt.xlabel('pvalues')\n",
    "plt.ylabel('frequency')\n",
    "plt.title(\"Histogram of ttest A/A simulations \")\n",
    "plt.show()\n",
    "\n",
    "# Проверяем, что количество ложноположительных случаев не превышает альфа\n",
    "sum(np.array(res) <0.05) / simulations"
   ]
  },
  {
   "cell_type": "markdown",
   "metadata": {
    "id": "zcJUmd1d0HVB"
   },
   "source": [
    "p-value < 0,05, значит между контрольными группами нет значимых различий. Чтобы убедиться в этом построим боксплоты:"
   ]
  },
  {
   "cell_type": "code",
   "execution_count": 20,
   "metadata": {
    "colab": {
     "base_uri": "https://localhost:8080/",
     "height": 72
    },
    "id": "6Zo9nDut0HGI",
    "outputId": "dd82c683-f47e-4aa2-b274-00aba5cbd2a9"
   },
   "outputs": [
    {
     "data": {
      "image/png": "[encoded data removed]",
      "text/plain": [
       "<Figure size 720x360 with 1 Axes>"
      ]
     },
     "metadata": {},
     "output_type": "display_data"
    },
    {
     "data": {
      "image/png": "[encoded data removed]",
      "text/plain": [
       "<Figure size 720x360 with 1 Axes>"
      ]
     },
     "metadata": {},
     "output_type": "display_data"
    }
   ],
   "source": [
    "#боксплот по transactions_control_1:\n",
    "plt.figure(figsize=(10,5))\n",
    "plt.title(\"transactions_control_1\")\n",
    "sns.boxplot(x=transactions_control_1['revenue'])\n",
    "plt.show()\n",
    "\n",
    "#transactions_control_2:\n",
    "plt.figure(figsize=(10,5))\n",
    "plt.title(\"transactions_control_2\")\n",
    "sns.boxplot(x=transactions_control_2['revenue'], color = 'skyblue')\n",
    "plt.show()"
   ]
  },
  {
   "cell_type": "markdown",
   "metadata": {
    "id": "r6-QmJG40hho"
   },
   "source": [
    "Судя по боксплотам, различия между контрольными группами явно отстутствуют. Значит, контрольные группы для А/B-теста были сплитованы корректно."
   ]
  },
  {
   "cell_type": "code",
   "execution_count": null,
   "metadata": {
    "id": "ymrq8lkkEhXx"
   },
   "outputs": [],
   "source": []
  },
  {
   "cell_type": "markdown",
   "metadata": {
    "id": "GGESpnMS3I6z"
   },
   "source": [
    "Предположим, что средний чек в тестовой группе при изменении стоимости премиум-подписки статистически значимо изменился по сравнению со ср. чеком в контрольной группе. \n",
    "\n",
    "Для подтверждения данной гипотезы необходимо отвергнуть нулевую гипотезу Н0 о том, что значение среднего чека в тестовой и контрольных группах статистически значимо НЕ отличается. Для проверки будем использовать бутстрап. \n",
    "\n",
    "Построим боксплот тестовой группы transactions_test, чтобы примерно представлять ее основные статистические характеристики и выявить случайные выбросы."
   ]
  },
  {
   "cell_type": "code",
   "execution_count": 21,
   "metadata": {
    "colab": {
     "base_uri": "https://localhost:8080/",
     "height": 54
    },
    "id": "FWKtqSVm3eGr",
    "outputId": "a3d9f0e1-8c02-4257-f2f1-ed178546d5a1"
   },
   "outputs": [
    {
     "data": {
      "image/png": "[encoded data removed]",
      "text/plain": [
       "<Figure size 720x360 with 1 Axes>"
      ]
     },
     "metadata": {},
     "output_type": "display_data"
    }
   ],
   "source": [
    "# Построим боксплот для transactions_test, чтобы выявить выбросы:\n",
    "\n",
    "plt.figure(figsize=(10,5))\n",
    "plt.title(\"transactions_test data\")\n",
    "sns.boxplot(x=transactions_test['revenue'])\n",
    "plt.show()"
   ]
  },
  {
   "cell_type": "code",
   "execution_count": 22,
   "metadata": {
    "id": "hE7vmYK-5bgy"
   },
   "outputs": [],
   "source": [
    "#Видим явные 4 выброса. Давайте от них избавимся \n",
    "transactions_test = transactions_test.query('revenue <= 20000')"
   ]
  },
  {
   "cell_type": "code",
   "execution_count": 23,
   "metadata": {
    "colab": {
     "base_uri": "https://localhost:8080/"
    },
    "id": "HUnntLt9Eha2",
    "outputId": "2131aab2-e1b0-4657-9c63-b445a3047040"
   },
   "outputs": [
    {
     "name": "stdout",
     "output_type": "stream",
     "text": [
      "Средний чек в тестовой группе 7051\n",
      "Средний чек в 1-ой контр. группее 4539\n",
      "Средний чек во 2-ой контр. группее равен 4414\n"
     ]
    }
   ],
   "source": [
    "\n",
    "print(f\"Средний чек в тестовой группе {round(transactions_test['revenue'].mean())}\")\n",
    "\n",
    "print(f\"Средний чек в 1-ой контр. группее {round(transactions_control_1['revenue'].mean())}\")\n",
    "\n",
    "print(f\"Средний чек во 2-ой контр. группее равен {round(transactions_control_2['revenue'].mean())}\")\n"
   ]
  },
  {
   "cell_type": "code",
   "execution_count": null,
   "metadata": {
    "id": "TntSSkck5Dg7"
   },
   "outputs": [],
   "source": []
  },
  {
   "cell_type": "markdown",
   "metadata": {
    "id": "QMlzLtcv97Hs"
   },
   "source": [
    "# A/B тест, Бутстрап: сравним тестовую выборку  с 1 контрольной выборкой"
   ]
  },
  {
   "cell_type": "code",
   "execution_count": null,
   "metadata": {
    "id": "l8re4OwUsMXJ"
   },
   "outputs": [],
   "source": []
  },
  {
   "cell_type": "code",
   "execution_count": 24,
   "metadata": {
    "id": "InKZN5u_sMUL"
   },
   "outputs": [],
   "source": [
    "def get_bootstrap(\n",
    "    data_column_1, # числовые значения первой выборки\n",
    "    data_column_2, # числовые значения второй выборки\n",
    "    boot_it = 10000, # количество бутстрэп-подвыборок\n",
    "    statistic = np.mean, # интересующая нас статистика(среднее, т.к ищем ср.чек)\n",
    "    bootstrap_conf_level = 0.95 # уровень значимости\n",
    "):\n",
    "    boot_len = max([len(data_column_1), len(data_column_2)])\n",
    "    boot_data = []\n",
    "    for i in tqdm(range(boot_it)): # извлекаем подвыборки\n",
    "        samples_1 = data_column_1.sample(\n",
    "            boot_len, \n",
    "            replace = True # параметр возвращения\n",
    "        ).values\n",
    "        \n",
    "        samples_2 = data_column_2.sample(\n",
    "            boot_len, \n",
    "            replace = True\n",
    "        ).values\n",
    "        \n",
    "        boot_data.append(statistic(samples_1-samples_2))\n",
    "        \n",
    "    pd_boot_data = pd.DataFrame(boot_data)\n",
    "        \n",
    "    left_quant = (1 - bootstrap_conf_level)/2\n",
    "    right_quant = 1 - (1 - bootstrap_conf_level) / 2\n",
    "    quants = pd_boot_data.quantile([left_quant, right_quant])\n",
    "        \n",
    "    p_1 = ss.norm.cdf(\n",
    "        x = 0, \n",
    "        loc = np.mean(boot_data), \n",
    "        scale = np.std(boot_data)\n",
    "    )\n",
    "    p_2 = ss.norm.cdf(\n",
    "        x = 0, \n",
    "        loc = -np.mean(boot_data), \n",
    "        scale = np.std(boot_data)\n",
    "    )\n",
    "    p_value = min(p_1, p_2) * 2\n",
    "        \n",
    "    # Визуализация\n",
    "    _, _, bars = plt.hist(pd_boot_data[0], bins = 50)\n",
    "    for bar in bars:\n",
    "        if abs(bar.get_x()) <= quants.iloc[0][0] or abs(bar.get_x()) >= quants.iloc[1][0]:\n",
    "            bar.set_facecolor('red')\n",
    "        else: \n",
    "            bar.set_facecolor('grey')\n",
    "            bar.set_edgecolor('black')\n",
    "    \n",
    "    plt.style.use('ggplot')\n",
    "    plt.vlines(quants,ymin=0,ymax=50,linestyle='--')\n",
    "    plt.xlabel('boot_data')\n",
    "    plt.ylabel('frequency')\n",
    "    plt.title(\"Histogram of boot_data\")\n",
    "    plt.show()\n",
    "       \n",
    "    return {\"boot_data\": boot_data, \n",
    "            \"quants\": quants, \n",
    "            \"p_value\": p_value}"
   ]
  },
  {
   "cell_type": "code",
   "execution_count": null,
   "metadata": {
    "id": "IN3OeN5NsWO7"
   },
   "outputs": [],
   "source": []
  },
  {
   "cell_type": "code",
   "execution_count": 25,
   "metadata": {
    "colab": {
     "base_uri": "https://localhost:8080/",
     "height": 331,
     "referenced_widgets": [
      "20aeff96f9da4cf7be84eb329906b393",
      "f0b0b682868d46c6a000af5422911d95",
      "34cb5dcc90ff4c229ac8976a4bb5ffde",
      "9fae0d340fb345bb8eb2e512b7843649",
      "bd7f5cca7e0546e5bfb86e924c980fbb",
      "d17af50e516d4da980a0f9ec8451d442",
      "f779387b61fc43d9810eaf87a969710b",
      "bd41e9c85b2843ba8d6e012d8b398ba7",
      "2d5a7824398e41b6b7981b0d7dde79ae",
      "b0bbbd08a5d14ad58bd46e8ecd8cfa8f",
      "1dc5f10a1d8c45b4b1fde0f6461a6caf"
     ]
    },
    "id": "PXNXwqCU-MlZ",
    "outputId": "54cde409-0086-4b96-f1c9-45a51b63c3c7"
   },
   "outputs": [
    {
     "data": {
      "application/vnd.jupyter.widget-view+json": {
       "model_id": "86d02aa515a94b609a538dfa15c18dd6",
       "version_major": 2,
       "version_minor": 0
      },
      "text/plain": [
       "  0%|          | 0/10000 [00:00<?, ?it/s]"
      ]
     },
     "metadata": {},
     "output_type": "display_data"
    },
    {
     "data": {
      "image/png": "[encoded data removed]",
      "text/plain": [
       "<Figure size 432x288 with 1 Axes>"
      ]
     },
     "metadata": {},
     "output_type": "display_data"
    }
   ],
   "source": [
    "booted_data = get_bootstrap(transactions_test['revenue'] , transactions_control_1['revenue'] , boot_it = 10000)"
   ]
  },
  {
   "cell_type": "code",
   "execution_count": 26,
   "metadata": {
    "colab": {
     "base_uri": "https://localhost:8080/"
    },
    "id": "Qm4eZ6XV-kuo",
    "outputId": "88536aff-318d-479e-ab4e-23b46d771999"
   },
   "outputs": [
    {
     "data": {
      "text/plain": [
       "1.5648888127710322e-16"
      ]
     },
     "execution_count": 26,
     "metadata": {},
     "output_type": "execute_result"
    }
   ],
   "source": [
    "booted_data[\"p_value\"]"
   ]
  },
  {
   "cell_type": "code",
   "execution_count": 27,
   "metadata": {
    "colab": {
     "base_uri": "https://localhost:8080/",
     "height": 112
    },
    "id": "LWAMdXegA0bw",
    "outputId": "d8f6f4b5-fd0f-469c-c5d6-bb8ab862805b"
   },
   "outputs": [
    {
     "data": {
      "text/html": [
       "<div>\n",
       "<style scoped>\n",
       "    .dataframe tbody tr th:only-of-type {\n",
       "        vertical-align: middle;\n",
       "    }\n",
       "\n",
       "    .dataframe tbody tr th {\n",
       "        vertical-align: top;\n",
       "    }\n",
       "\n",
       "    .dataframe thead th {\n",
       "        text-align: right;\n",
       "    }\n",
       "</style>\n",
       "<table border=\"1\" class=\"dataframe\">\n",
       "  <thead>\n",
       "    <tr style=\"text-align: right;\">\n",
       "      <th></th>\n",
       "      <th>0</th>\n",
       "    </tr>\n",
       "  </thead>\n",
       "  <tbody>\n",
       "    <tr>\n",
       "      <th>0.025</th>\n",
       "      <td>1917.431153</td>\n",
       "    </tr>\n",
       "    <tr>\n",
       "      <th>0.975</th>\n",
       "      <td>3108.628037</td>\n",
       "    </tr>\n",
       "  </tbody>\n",
       "</table>\n",
       "</div>"
      ],
      "text/plain": [
       "                 0\n",
       "0.025  1917.431153\n",
       "0.975  3108.628037"
      ]
     },
     "execution_count": 27,
     "metadata": {},
     "output_type": "execute_result"
    }
   ],
   "source": [
    "booted_data[\"quants\"]"
   ]
  },
  {
   "cell_type": "markdown",
   "metadata": {
    "id": "ju115Dj2BQVn"
   },
   "source": [
    "# А/В тест, Бутстрап: сравним тестовую выборку  с 2 контрольной выборкой"
   ]
  },
  {
   "cell_type": "code",
   "execution_count": 28,
   "metadata": {
    "colab": {
     "base_uri": "https://localhost:8080/",
     "height": 331,
     "referenced_widgets": [
      "8408c3c3443e49baa6974bd01fbfc021",
      "e8ee62c262a842e49d975cfd085e1e73",
      "31ce4630cd5d43cd9677f4698582d2eb",
      "9bc19106d68e4832ae1e38edef7fdf3a",
      "2a0a98942ae148ed92f1ee8642388385",
      "6c1a7e5e7df84edeb5f84cececb689c9",
      "63b35b8000174ba080b600ca673e1848",
      "8b1537d0f7a84400a7fe99b9e3b2d608",
      "21e074d326574f88bc4a5a50888818d8",
      "b81cccb7767a441bbde0b255bfa311d1",
      "2fba535c67274aa39b29c955b70832de"
     ]
    },
    "id": "2VvbHIvMA1HH",
    "outputId": "57f09540-ad33-4210-a565-26dd599a3d76"
   },
   "outputs": [
    {
     "data": {
      "application/vnd.jupyter.widget-view+json": {
       "model_id": "ec89285416c34aaeace2031f371d298a",
       "version_major": 2,
       "version_minor": 0
      },
      "text/plain": [
       "  0%|          | 0/10000 [00:00<?, ?it/s]"
      ]
     },
     "metadata": {},
     "output_type": "display_data"
    },
    {
     "data": {
      "image/png": "[encoded data removed]",
      "text/plain": [
       "<Figure size 432x288 with 1 Axes>"
      ]
     },
     "metadata": {},
     "output_type": "display_data"
    }
   ],
   "source": [
    "booted_data_1 = get_bootstrap(transactions_test['revenue'] , transactions_control_2['revenue'] , boot_it = 10000)"
   ]
  },
  {
   "cell_type": "code",
   "execution_count": 29,
   "metadata": {
    "colab": {
     "base_uri": "https://localhost:8080/"
    },
    "id": "rWcvWhB7BxnY",
    "outputId": "9c2256ba-c893-4a70-8541-e90a63635470"
   },
   "outputs": [
    {
     "data": {
      "text/plain": [
       "4.2509464405022786e-16"
      ]
     },
     "execution_count": 29,
     "metadata": {},
     "output_type": "execute_result"
    }
   ],
   "source": [
    "booted_data_1[\"p_value\"]"
   ]
  },
  {
   "cell_type": "code",
   "execution_count": 30,
   "metadata": {
    "colab": {
     "base_uri": "https://localhost:8080/",
     "height": 112
    },
    "id": "wpjNHWvLByNE",
    "outputId": "2167b806-aaac-46a8-b66a-3c6695e499b8"
   },
   "outputs": [
    {
     "data": {
      "text/html": [
       "<div>\n",
       "<style scoped>\n",
       "    .dataframe tbody tr th:only-of-type {\n",
       "        vertical-align: middle;\n",
       "    }\n",
       "\n",
       "    .dataframe tbody tr th {\n",
       "        vertical-align: top;\n",
       "    }\n",
       "\n",
       "    .dataframe thead th {\n",
       "        text-align: right;\n",
       "    }\n",
       "</style>\n",
       "<table border=\"1\" class=\"dataframe\">\n",
       "  <thead>\n",
       "    <tr style=\"text-align: right;\">\n",
       "      <th></th>\n",
       "      <th>0</th>\n",
       "    </tr>\n",
       "  </thead>\n",
       "  <tbody>\n",
       "    <tr>\n",
       "      <th>0.025</th>\n",
       "      <td>1989.247938</td>\n",
       "    </tr>\n",
       "    <tr>\n",
       "      <th>0.975</th>\n",
       "      <td>3259.266409</td>\n",
       "    </tr>\n",
       "  </tbody>\n",
       "</table>\n",
       "</div>"
      ],
      "text/plain": [
       "                 0\n",
       "0.025  1989.247938\n",
       "0.975  3259.266409"
      ]
     },
     "execution_count": 30,
     "metadata": {},
     "output_type": "execute_result"
    }
   ],
   "source": [
    "booted_data_1[\"quants\"]"
   ]
  },
  {
   "cell_type": "code",
   "execution_count": 31,
   "metadata": {
    "colab": {
     "base_uri": "https://localhost:8080/",
     "height": 424
    },
    "id": "clOTS1Ky3tZ0",
    "outputId": "15e1ac36-4ce4-4fc4-8fd5-46e5c01118a9"
   },
   "outputs": [
    {
     "data": {
      "text/html": [
       "<div>\n",
       "<style scoped>\n",
       "    .dataframe tbody tr th:only-of-type {\n",
       "        vertical-align: middle;\n",
       "    }\n",
       "\n",
       "    .dataframe tbody tr th {\n",
       "        vertical-align: top;\n",
       "    }\n",
       "\n",
       "    .dataframe thead th {\n",
       "        text-align: right;\n",
       "    }\n",
       "</style>\n",
       "<table border=\"1\" class=\"dataframe\">\n",
       "  <thead>\n",
       "    <tr style=\"text-align: right;\">\n",
       "      <th></th>\n",
       "      <th>uid</th>\n",
       "      <th>country</th>\n",
       "      <th>joined_at</th>\n",
       "      <th>paid_at</th>\n",
       "      <th>revenue</th>\n",
       "      <th>payment_id</th>\n",
       "      <th>from_page</th>\n",
       "      <th>product_type</th>\n",
       "      <th>group</th>\n",
       "    </tr>\n",
       "  </thead>\n",
       "  <tbody>\n",
       "    <tr>\n",
       "      <th>0</th>\n",
       "      <td>891345942</td>\n",
       "      <td>Italy</td>\n",
       "      <td>2017-05-11 13:00:00</td>\n",
       "      <td>2017-11-13 15:04:00</td>\n",
       "      <td>12909</td>\n",
       "      <td>147</td>\n",
       "      <td>trial_vip_popup</td>\n",
       "      <td>trial_premium</td>\n",
       "      <td>test</td>\n",
       "    </tr>\n",
       "    <tr>\n",
       "      <th>1</th>\n",
       "      <td>892054251</td>\n",
       "      <td>United States of America</td>\n",
       "      <td>2017-10-22 00:33:00</td>\n",
       "      <td>2017-10-30 01:37:00</td>\n",
       "      <td>13923</td>\n",
       "      <td>147</td>\n",
       "      <td>trial_vip_popup</td>\n",
       "      <td>trial_premium</td>\n",
       "      <td>test</td>\n",
       "    </tr>\n",
       "    <tr>\n",
       "      <th>2</th>\n",
       "      <td>892236423</td>\n",
       "      <td>United States of America</td>\n",
       "      <td>2017-10-18 01:09:00</td>\n",
       "      <td>2017-10-23 00:15:00</td>\n",
       "      <td>3783</td>\n",
       "      <td>67</td>\n",
       "      <td>menu</td>\n",
       "      <td>other_type</td>\n",
       "      <td>test</td>\n",
       "    </tr>\n",
       "    <tr>\n",
       "      <th>3</th>\n",
       "      <td>892236423</td>\n",
       "      <td>United States of America</td>\n",
       "      <td>2017-10-18 01:09:00</td>\n",
       "      <td>2017-10-27 22:38:00</td>\n",
       "      <td>3783</td>\n",
       "      <td>67</td>\n",
       "      <td>menu</td>\n",
       "      <td>other_type</td>\n",
       "      <td>test</td>\n",
       "    </tr>\n",
       "    <tr>\n",
       "      <th>4</th>\n",
       "      <td>892168170</td>\n",
       "      <td>United States of America</td>\n",
       "      <td>2017-10-19 17:10:00</td>\n",
       "      <td>2017-10-27 19:10:00</td>\n",
       "      <td>9087</td>\n",
       "      <td>147</td>\n",
       "      <td>trial_vip_popup</td>\n",
       "      <td>trial_premium</td>\n",
       "      <td>test</td>\n",
       "    </tr>\n",
       "    <tr>\n",
       "      <th>...</th>\n",
       "      <td>...</td>\n",
       "      <td>...</td>\n",
       "      <td>...</td>\n",
       "      <td>...</td>\n",
       "      <td>...</td>\n",
       "      <td>...</td>\n",
       "      <td>...</td>\n",
       "      <td>...</td>\n",
       "      <td>...</td>\n",
       "    </tr>\n",
       "    <tr>\n",
       "      <th>268</th>\n",
       "      <td>891419625</td>\n",
       "      <td>Israel</td>\n",
       "      <td>2017-04-11 05:58:00</td>\n",
       "      <td>2017-11-11 08:33:00</td>\n",
       "      <td>14352</td>\n",
       "      <td>147</td>\n",
       "      <td>trial_vip_popup</td>\n",
       "      <td>trial_premium</td>\n",
       "      <td>test</td>\n",
       "    </tr>\n",
       "    <tr>\n",
       "      <th>269</th>\n",
       "      <td>891447105</td>\n",
       "      <td>United Kingdom (Great Britain)</td>\n",
       "      <td>2017-03-11 17:05:00</td>\n",
       "      <td>2017-11-11 04:23:00</td>\n",
       "      <td>7319</td>\n",
       "      <td>147</td>\n",
       "      <td>fans</td>\n",
       "      <td>premium_no_trial</td>\n",
       "      <td>test</td>\n",
       "    </tr>\n",
       "    <tr>\n",
       "      <th>270</th>\n",
       "      <td>891497073</td>\n",
       "      <td>United States of America</td>\n",
       "      <td>2017-02-11 15:33:00</td>\n",
       "      <td>2017-05-11 04:06:00</td>\n",
       "      <td>2730</td>\n",
       "      <td>67</td>\n",
       "      <td>empty_likes</td>\n",
       "      <td>other_type</td>\n",
       "      <td>test</td>\n",
       "    </tr>\n",
       "    <tr>\n",
       "      <th>271</th>\n",
       "      <td>891406224</td>\n",
       "      <td>Israel</td>\n",
       "      <td>2017-04-11 12:56:00</td>\n",
       "      <td>2017-04-11 13:35:00</td>\n",
       "      <td>2743</td>\n",
       "      <td>67</td>\n",
       "      <td>empty_likes</td>\n",
       "      <td>other_type</td>\n",
       "      <td>test</td>\n",
       "    </tr>\n",
       "    <tr>\n",
       "      <th>272</th>\n",
       "      <td>891499359</td>\n",
       "      <td>Germany</td>\n",
       "      <td>2017-02-11 14:25:00</td>\n",
       "      <td>2017-02-11 14:30:00</td>\n",
       "      <td>1599</td>\n",
       "      <td>19</td>\n",
       "      <td>none</td>\n",
       "      <td>coins</td>\n",
       "      <td>test</td>\n",
       "    </tr>\n",
       "  </tbody>\n",
       "</table>\n",
       "<p>263 rows × 9 columns</p>\n",
       "</div>"
      ],
      "text/plain": [
       "           uid                         country           joined_at  \\\n",
       "0    891345942                           Italy 2017-05-11 13:00:00   \n",
       "1    892054251        United States of America 2017-10-22 00:33:00   \n",
       "2    892236423        United States of America 2017-10-18 01:09:00   \n",
       "3    892236423        United States of America 2017-10-18 01:09:00   \n",
       "4    892168170        United States of America 2017-10-19 17:10:00   \n",
       "..         ...                             ...                 ...   \n",
       "268  891419625                          Israel 2017-04-11 05:58:00   \n",
       "269  891447105  United Kingdom (Great Britain) 2017-03-11 17:05:00   \n",
       "270  891497073        United States of America 2017-02-11 15:33:00   \n",
       "271  891406224                          Israel 2017-04-11 12:56:00   \n",
       "272  891499359                         Germany 2017-02-11 14:25:00   \n",
       "\n",
       "                paid_at  revenue  payment_id        from_page  \\\n",
       "0   2017-11-13 15:04:00    12909         147  trial_vip_popup   \n",
       "1   2017-10-30 01:37:00    13923         147  trial_vip_popup   \n",
       "2   2017-10-23 00:15:00     3783          67             menu   \n",
       "3   2017-10-27 22:38:00     3783          67             menu   \n",
       "4   2017-10-27 19:10:00     9087         147  trial_vip_popup   \n",
       "..                  ...      ...         ...              ...   \n",
       "268 2017-11-11 08:33:00    14352         147  trial_vip_popup   \n",
       "269 2017-11-11 04:23:00     7319         147             fans   \n",
       "270 2017-05-11 04:06:00     2730          67      empty_likes   \n",
       "271 2017-04-11 13:35:00     2743          67      empty_likes   \n",
       "272 2017-02-11 14:30:00     1599          19             none   \n",
       "\n",
       "         product_type group  \n",
       "0       trial_premium  test  \n",
       "1       trial_premium  test  \n",
       "2          other_type  test  \n",
       "3          other_type  test  \n",
       "4       trial_premium  test  \n",
       "..                ...   ...  \n",
       "268     trial_premium  test  \n",
       "269  premium_no_trial  test  \n",
       "270        other_type  test  \n",
       "271        other_type  test  \n",
       "272             coins  test  \n",
       "\n",
       "[263 rows x 9 columns]"
      ]
     },
     "execution_count": 31,
     "metadata": {},
     "output_type": "execute_result"
    }
   ],
   "source": [
    "transactions_test"
   ]
  },
  {
   "cell_type": "code",
   "execution_count": 32,
   "metadata": {
    "colab": {
     "base_uri": "https://localhost:8080/"
    },
    "id": "O8pVzbUJydbZ",
    "outputId": "e98cef88-96f0-4135-c119-87130bd0b8f1"
   },
   "outputs": [
    {
     "data": {
      "text/plain": [
       "MannwhitneyuResult(statistic=48916.0, pvalue=1.4665345681429054e-08)"
      ]
     },
     "execution_count": 32,
     "metadata": {},
     "output_type": "execute_result"
    }
   ],
   "source": [
    "ss.mannwhitneyu(transactions_test.revenue, transactions_control_2.revenue)"
   ]
  },
  {
   "cell_type": "code",
   "execution_count": 33,
   "metadata": {
    "colab": {
     "base_uri": "https://localhost:8080/"
    },
    "id": "BogIXt7cydYy",
    "outputId": "3365a332-4ac9-4da9-94f4-a2e8315cc1e8"
   },
   "outputs": [
    {
     "data": {
      "text/plain": [
       "2636.103935051547"
      ]
     },
     "execution_count": 33,
     "metadata": {},
     "output_type": "execute_result"
    }
   ],
   "source": [
    " np.mean(booted_data_1['boot_data'])"
   ]
  },
  {
   "cell_type": "markdown",
   "metadata": {
    "id": "ej01V5VXPBwF"
   },
   "source": [
    "Думаю, наиболее вероятную разницу между ср. чеком тестовой группы и ср. чеком 1 контрольной группы олицетворяет медиана(кот-ая равна моде). Найдём её"
   ]
  },
  {
   "cell_type": "code",
   "execution_count": 34,
   "metadata": {
    "colab": {
     "base_uri": "https://localhost:8080/"
    },
    "id": "lyi-ncjWBzxv",
    "outputId": "3df27b63-f3df-4552-c758-4ffcef59fe47"
   },
   "outputs": [
    {
     "name": "stdout",
     "output_type": "stream",
     "text": [
      "Разница среднего чека тестовой группы от 1 контрольной группы 1 = 2515.0\n",
      "Разница среднего чека тестовой группы от 2 контрольной группы 2 = 2641.0\n"
     ]
    }
   ],
   "source": [
    "print(f\"Разница среднего чека тестовой группы от 1 контрольной группы 1 = {round(np.median(booted_data['boot_data']), 0)}\")\n",
    "\n",
    "print(f\"Разница среднего чека тестовой группы от 2 контрольной группы 2 = {round(np.median(booted_data_1['boot_data']),0)}\")"
   ]
  },
  {
   "cell_type": "markdown",
   "metadata": {
    "id": "eHR-uHaZSyyU"
   },
   "source": [
    "#Вывод\n",
    "Отвергаем нулевую гипотезу Н0 с 95% уровнем значимости, таким образом **разница** между средним чеком в тестовой группе и средним чеке в двух контрольных грппах действительно **есть**. Причем эта разница наиболее вероятно лежит в диапозоне 2500-2650 единиц\n",
    "\n",
    "Также, наш вывод, подтверждают значения p-value, которые действительно очень низки. \n",
    "Таким образом, при изменении стоимости премиум-подписки средний чек генеральной совокупности возрастет на 2400-2600 на 95% уровне значимости. "
   ]
  },
  {
   "cell_type": "markdown",
   "metadata": {
    "id": "UwrSDmg1EyDi"
   },
   "source": [
    "# Быть может, нововведение имеет смысл среди каких-то конкретных групп пользователей?"
   ]
  },
  {
   "cell_type": "markdown",
   "metadata": {
    "id": "YLWHqUNAcAji"
   },
   "source": [
    "Логичным будет предположить, что группы пользователей, среди которых есть смысл делать нововведение, могут быть обнаружены в процессе работы, например, со следующими категориями:\n",
    "\n",
    "*   age (возраст) - думаю, пользователи возраста 20-30 лет, более мотивированы на знакомства, чем пользователи 50-60-летнего возраста\n",
    "\n",
    "*   product_type (тип продукта) - средний чек в зависимости от типа продукта может меняться\n",
    "\n",
    "*   country (страна) - страны различаются по уровню жизни, экономического развитию, традициям, думаю, стоит и тут проверить\n",
    "\n",
    "*   attraction_coeff (привлекательность) - коэффициент привлекательности это основа экономики дейтинговых приложений, характеризующая в том числе и поведение пользователя.\n"
   ]
  },
  {
   "cell_type": "markdown",
   "metadata": {
    "id": "2U4VTkwx51Ok"
   },
   "source": [
    "#  Посмотрим на данные в разрезе стран:"
   ]
  },
  {
   "cell_type": "code",
   "execution_count": 35,
   "metadata": {
    "id": "wAu1axD_80PR"
   },
   "outputs": [],
   "source": [
    "#Сгруппируем по стране, посчитаем выручку и кол-во платежей, уберём страны, \n",
    "#чье кол-во транзакций меньше 10 дабы как-то прикинуть настоящий средний чек \n",
    "country_group_test = transactions_test.groupby('country', as_index = False) \\\n",
    "                                      .agg({'revenue':'sum', 'payment_id':'count'}) \\\n",
    "                                      .rename(columns={'payment_id':'transactions'}) \\\n",
    "                                      .query('transactions > 10')                                           \n",
    "\n",
    "# Вычислим средний чек у каждой страны:\n",
    "country_group_test['AOV_test'] = (country_group_test['revenue']/country_group_test['transactions']).round(0)"
   ]
  },
  {
   "cell_type": "code",
   "execution_count": 36,
   "metadata": {
    "colab": {
     "base_uri": "https://localhost:8080/",
     "height": 332
    },
    "id": "DbS-JJtmbevQ",
    "outputId": "6b79ce21-aad5-454e-ba84-59e04cb5a25c"
   },
   "outputs": [
    {
     "data": {
      "text/html": [
       "<div>\n",
       "<style scoped>\n",
       "    .dataframe tbody tr th:only-of-type {\n",
       "        vertical-align: middle;\n",
       "    }\n",
       "\n",
       "    .dataframe tbody tr th {\n",
       "        vertical-align: top;\n",
       "    }\n",
       "\n",
       "    .dataframe thead th {\n",
       "        text-align: right;\n",
       "    }\n",
       "</style>\n",
       "<table border=\"1\" class=\"dataframe\">\n",
       "  <thead>\n",
       "    <tr style=\"text-align: right;\">\n",
       "      <th></th>\n",
       "      <th>country</th>\n",
       "      <th>revenue</th>\n",
       "      <th>transactions</th>\n",
       "      <th>AOV_test</th>\n",
       "    </tr>\n",
       "  </thead>\n",
       "  <tbody>\n",
       "    <tr>\n",
       "      <th>3</th>\n",
       "      <td>Canada</td>\n",
       "      <td>63466</td>\n",
       "      <td>11</td>\n",
       "      <td>5770.0</td>\n",
       "    </tr>\n",
       "    <tr>\n",
       "      <th>4</th>\n",
       "      <td>Chile</td>\n",
       "      <td>69940</td>\n",
       "      <td>12</td>\n",
       "      <td>5828.0</td>\n",
       "    </tr>\n",
       "    <tr>\n",
       "      <th>5</th>\n",
       "      <td>France</td>\n",
       "      <td>253617</td>\n",
       "      <td>33</td>\n",
       "      <td>7685.0</td>\n",
       "    </tr>\n",
       "    <tr>\n",
       "      <th>7</th>\n",
       "      <td>Israel</td>\n",
       "      <td>94809</td>\n",
       "      <td>15</td>\n",
       "      <td>6321.0</td>\n",
       "    </tr>\n",
       "    <tr>\n",
       "      <th>8</th>\n",
       "      <td>Italy</td>\n",
       "      <td>113425</td>\n",
       "      <td>20</td>\n",
       "      <td>5671.0</td>\n",
       "    </tr>\n",
       "    <tr>\n",
       "      <th>11</th>\n",
       "      <td>Spain</td>\n",
       "      <td>171951</td>\n",
       "      <td>24</td>\n",
       "      <td>7165.0</td>\n",
       "    </tr>\n",
       "    <tr>\n",
       "      <th>14</th>\n",
       "      <td>United Arab Emirates</td>\n",
       "      <td>100308</td>\n",
       "      <td>11</td>\n",
       "      <td>9119.0</td>\n",
       "    </tr>\n",
       "    <tr>\n",
       "      <th>15</th>\n",
       "      <td>United Kingdom (Great Britain)</td>\n",
       "      <td>77376</td>\n",
       "      <td>12</td>\n",
       "      <td>6448.0</td>\n",
       "    </tr>\n",
       "    <tr>\n",
       "      <th>16</th>\n",
       "      <td>United States of America</td>\n",
       "      <td>658788</td>\n",
       "      <td>92</td>\n",
       "      <td>7161.0</td>\n",
       "    </tr>\n",
       "  </tbody>\n",
       "</table>\n",
       "</div>"
      ],
      "text/plain": [
       "                           country  revenue  transactions  AOV_test\n",
       "3                           Canada    63466            11    5770.0\n",
       "4                            Chile    69940            12    5828.0\n",
       "5                           France   253617            33    7685.0\n",
       "7                           Israel    94809            15    6321.0\n",
       "8                            Italy   113425            20    5671.0\n",
       "11                           Spain   171951            24    7165.0\n",
       "14            United Arab Emirates   100308            11    9119.0\n",
       "15  United Kingdom (Great Britain)    77376            12    6448.0\n",
       "16        United States of America   658788            92    7161.0"
      ]
     },
     "execution_count": 36,
     "metadata": {},
     "output_type": "execute_result"
    }
   ],
   "source": [
    "country_group_test"
   ]
  },
  {
   "cell_type": "code",
   "execution_count": 37,
   "metadata": {
    "id": "kmRitMn080MB"
   },
   "outputs": [],
   "source": [
    "# Выполним то же для контрольной выборки 1\n",
    "country_group_1 = transactions_control_1.groupby('country', as_index = False) \\\n",
    "                                        .agg({'revenue':'sum', 'payment_id':'count'}) \\\n",
    "                                        .rename(columns={'payment_id':'transactions'}) \\\n",
    "                                        .query('transactions > 10') \n",
    "\n",
    "country_group_1['AOV_control_1'] = (country_group_1['revenue']/country_group_1['transactions']).round(0)       "
   ]
  },
  {
   "cell_type": "code",
   "execution_count": 38,
   "metadata": {
    "id": "XR6XxO_o80Ex"
   },
   "outputs": [],
   "source": [
    "# И для контрольной выборки 2\n",
    "country_group_2 = transactions_control_2.groupby('country', as_index = False) \\\n",
    "                                        .agg({'revenue':'sum', 'payment_id':'count'}) \\\n",
    "                                        .rename(columns={'payment_id':'transactions'}) \\\n",
    "                                        .query('transactions > 5') \n",
    "\n",
    "country_group_2['AOV_control_2'] = (country_group_2['revenue']/country_group_2['transactions']).round(0) "
   ]
  },
  {
   "cell_type": "code",
   "execution_count": null,
   "metadata": {
    "id": "TIt-WHWiWFLP"
   },
   "outputs": [],
   "source": []
  },
  {
   "cell_type": "code",
   "execution_count": 39,
   "metadata": {
    "colab": {
     "base_uri": "https://localhost:8080/",
     "height": 332
    },
    "id": "GZqBA4edPan6",
    "outputId": "dcc8a3b4-2bb5-4442-a078-e6cfde8c0ef6"
   },
   "outputs": [
    {
     "data": {
      "text/html": [
       "<div>\n",
       "<style scoped>\n",
       "    .dataframe tbody tr th:only-of-type {\n",
       "        vertical-align: middle;\n",
       "    }\n",
       "\n",
       "    .dataframe tbody tr th {\n",
       "        vertical-align: top;\n",
       "    }\n",
       "\n",
       "    .dataframe thead th {\n",
       "        text-align: right;\n",
       "    }\n",
       "</style>\n",
       "<table border=\"1\" class=\"dataframe\">\n",
       "  <thead>\n",
       "    <tr style=\"text-align: right;\">\n",
       "      <th></th>\n",
       "      <th>country</th>\n",
       "      <th>AOV_test</th>\n",
       "      <th>AOV_control_1</th>\n",
       "      <th>AOV_control_2</th>\n",
       "    </tr>\n",
       "  </thead>\n",
       "  <tbody>\n",
       "    <tr>\n",
       "      <th>0</th>\n",
       "      <td>Canada</td>\n",
       "      <td>5770.0</td>\n",
       "      <td>6105.0</td>\n",
       "      <td>NaN</td>\n",
       "    </tr>\n",
       "    <tr>\n",
       "      <th>1</th>\n",
       "      <td>Chile</td>\n",
       "      <td>5828.0</td>\n",
       "      <td>4870.0</td>\n",
       "      <td>5297.0</td>\n",
       "    </tr>\n",
       "    <tr>\n",
       "      <th>2</th>\n",
       "      <td>France</td>\n",
       "      <td>7685.0</td>\n",
       "      <td>3424.0</td>\n",
       "      <td>4056.0</td>\n",
       "    </tr>\n",
       "    <tr>\n",
       "      <th>3</th>\n",
       "      <td>Israel</td>\n",
       "      <td>6321.0</td>\n",
       "      <td>4473.0</td>\n",
       "      <td>3446.0</td>\n",
       "    </tr>\n",
       "    <tr>\n",
       "      <th>4</th>\n",
       "      <td>Italy</td>\n",
       "      <td>5671.0</td>\n",
       "      <td>3503.0</td>\n",
       "      <td>2876.0</td>\n",
       "    </tr>\n",
       "    <tr>\n",
       "      <th>5</th>\n",
       "      <td>Spain</td>\n",
       "      <td>7165.0</td>\n",
       "      <td>5157.0</td>\n",
       "      <td>4039.0</td>\n",
       "    </tr>\n",
       "    <tr>\n",
       "      <th>6</th>\n",
       "      <td>United Arab Emirates</td>\n",
       "      <td>9119.0</td>\n",
       "      <td>NaN</td>\n",
       "      <td>NaN</td>\n",
       "    </tr>\n",
       "    <tr>\n",
       "      <th>7</th>\n",
       "      <td>United Kingdom (Great Britain)</td>\n",
       "      <td>6448.0</td>\n",
       "      <td>5928.0</td>\n",
       "      <td>4824.0</td>\n",
       "    </tr>\n",
       "    <tr>\n",
       "      <th>8</th>\n",
       "      <td>United States of America</td>\n",
       "      <td>7161.0</td>\n",
       "      <td>4942.0</td>\n",
       "      <td>4613.0</td>\n",
       "    </tr>\n",
       "  </tbody>\n",
       "</table>\n",
       "</div>"
      ],
      "text/plain": [
       "                          country  AOV_test  AOV_control_1  AOV_control_2\n",
       "0                          Canada    5770.0         6105.0            NaN\n",
       "1                           Chile    5828.0         4870.0         5297.0\n",
       "2                          France    7685.0         3424.0         4056.0\n",
       "3                          Israel    6321.0         4473.0         3446.0\n",
       "4                           Italy    5671.0         3503.0         2876.0\n",
       "5                           Spain    7165.0         5157.0         4039.0\n",
       "6            United Arab Emirates    9119.0            NaN            NaN\n",
       "7  United Kingdom (Great Britain)    6448.0         5928.0         4824.0\n",
       "8        United States of America    7161.0         4942.0         4613.0"
      ]
     },
     "execution_count": 39,
     "metadata": {},
     "output_type": "execute_result"
    }
   ],
   "source": [
    "#Удалим лишние столбцы у всех датафреймов\n",
    "country_group_test = country_group_test.drop(columns=['revenue', 'transactions'])\n",
    "country_group_1 = country_group_1.drop(columns=['revenue', 'transactions'])\n",
    "country_group_2 = country_group_2.drop(columns=['revenue', 'transactions'])\n",
    "\n",
    "# Объединим все таблицы\n",
    "country_group = country_group_test.merge(country_group_1, on = 'country', how = 'left') \\\n",
    "                  .merge(country_group_2, on = 'country', how = 'left')\n",
    "country_group"
   ]
  },
  {
   "cell_type": "markdown",
   "metadata": {
    "id": "tH5EiW7MPgWC"
   },
   "source": [
    "**Инсайнт**: Таким образом, по полученному датафрейму видим, что средний чек увеличился во Франции, Израиле, Италии, Испании, США и ЮК. Очень хотелось бы провести А/В тест на большем количестве данных, т.к транзакций по странам относительно немного, и не стоит полагаться на реальный прирост среднего чека в этих странах при распространении на генеральную совокупность"
   ]
  },
  {
   "cell_type": "markdown",
   "metadata": {
    "id": "IEStY7kNYA5G"
   },
   "source": [
    "# Посмотрим на данные в разрезе возраста:"
   ]
  },
  {
   "cell_type": "code",
   "execution_count": 40,
   "metadata": {
    "colab": {
     "base_uri": "https://localhost:8080/",
     "height": 424
    },
    "id": "XpiGFVBsYKFO",
    "outputId": "8ba52e78-3a85-46af-ef1b-ca948c3d92d7"
   },
   "outputs": [
    {
     "data": {
      "text/html": [
       "<div>\n",
       "<style scoped>\n",
       "    .dataframe tbody tr th:only-of-type {\n",
       "        vertical-align: middle;\n",
       "    }\n",
       "\n",
       "    .dataframe tbody tr th {\n",
       "        vertical-align: top;\n",
       "    }\n",
       "\n",
       "    .dataframe thead th {\n",
       "        text-align: right;\n",
       "    }\n",
       "</style>\n",
       "<table border=\"1\" class=\"dataframe\">\n",
       "  <thead>\n",
       "    <tr style=\"text-align: right;\">\n",
       "      <th></th>\n",
       "      <th>uid</th>\n",
       "      <th>age</th>\n",
       "      <th>attraction_coeff</th>\n",
       "      <th>coins</th>\n",
       "      <th>country</th>\n",
       "      <th>visit_days</th>\n",
       "      <th>gender</th>\n",
       "      <th>age_filter_start</th>\n",
       "      <th>age_filter_end</th>\n",
       "      <th>views_count</th>\n",
       "      <th>was_premium</th>\n",
       "      <th>is_premium</th>\n",
       "      <th>total_revenue</th>\n",
       "      <th>group</th>\n",
       "      <th>age_category</th>\n",
       "    </tr>\n",
       "  </thead>\n",
       "  <tbody>\n",
       "    <tr>\n",
       "      <th>0</th>\n",
       "      <td>892319115</td>\n",
       "      <td>25</td>\n",
       "      <td>435</td>\n",
       "      <td>NaN</td>\n",
       "      <td>United States of America</td>\n",
       "      <td>1,2,3,4,5,6</td>\n",
       "      <td>0</td>\n",
       "      <td>22</td>\n",
       "      <td>32</td>\n",
       "      <td>982</td>\n",
       "      <td>NaN</td>\n",
       "      <td>NaN</td>\n",
       "      <td>0</td>\n",
       "      <td>control_1</td>\n",
       "      <td>25-35</td>\n",
       "    </tr>\n",
       "    <tr>\n",
       "      <th>1</th>\n",
       "      <td>891248523</td>\n",
       "      <td>29</td>\n",
       "      <td>500</td>\n",
       "      <td>NaN</td>\n",
       "      <td>United States of America</td>\n",
       "      <td>1,2</td>\n",
       "      <td>1</td>\n",
       "      <td>26</td>\n",
       "      <td>32</td>\n",
       "      <td>12</td>\n",
       "      <td>NaN</td>\n",
       "      <td>NaN</td>\n",
       "      <td>0</td>\n",
       "      <td>control_1</td>\n",
       "      <td>25-35</td>\n",
       "    </tr>\n",
       "    <tr>\n",
       "      <th>2</th>\n",
       "      <td>891670932</td>\n",
       "      <td>33</td>\n",
       "      <td>800</td>\n",
       "      <td>NaN</td>\n",
       "      <td>France</td>\n",
       "      <td>1,2,3,5,6,8,9,11,13,16</td>\n",
       "      <td>1</td>\n",
       "      <td>30</td>\n",
       "      <td>36</td>\n",
       "      <td>5</td>\n",
       "      <td>NaN</td>\n",
       "      <td>NaN</td>\n",
       "      <td>0</td>\n",
       "      <td>control_1</td>\n",
       "      <td>25-35</td>\n",
       "    </tr>\n",
       "    <tr>\n",
       "      <th>3</th>\n",
       "      <td>891060786</td>\n",
       "      <td>26</td>\n",
       "      <td>0</td>\n",
       "      <td>NaN</td>\n",
       "      <td>Argentina</td>\n",
       "      <td>1,2,3,4,5</td>\n",
       "      <td>1</td>\n",
       "      <td>23</td>\n",
       "      <td>29</td>\n",
       "      <td>0</td>\n",
       "      <td>NaN</td>\n",
       "      <td>NaN</td>\n",
       "      <td>0</td>\n",
       "      <td>control_1</td>\n",
       "      <td>25-35</td>\n",
       "    </tr>\n",
       "    <tr>\n",
       "      <th>4</th>\n",
       "      <td>892006554</td>\n",
       "      <td>35</td>\n",
       "      <td>294</td>\n",
       "      <td>NaN</td>\n",
       "      <td>United States of America</td>\n",
       "      <td>1,2,3,5,6,7,8,9,10,12,15,16,17,19</td>\n",
       "      <td>1</td>\n",
       "      <td>30</td>\n",
       "      <td>40</td>\n",
       "      <td>17</td>\n",
       "      <td>NaN</td>\n",
       "      <td>NaN</td>\n",
       "      <td>0</td>\n",
       "      <td>control_1</td>\n",
       "      <td>35-44</td>\n",
       "    </tr>\n",
       "    <tr>\n",
       "      <th>...</th>\n",
       "      <td>...</td>\n",
       "      <td>...</td>\n",
       "      <td>...</td>\n",
       "      <td>...</td>\n",
       "      <td>...</td>\n",
       "      <td>...</td>\n",
       "      <td>...</td>\n",
       "      <td>...</td>\n",
       "      <td>...</td>\n",
       "      <td>...</td>\n",
       "      <td>...</td>\n",
       "      <td>...</td>\n",
       "      <td>...</td>\n",
       "      <td>...</td>\n",
       "      <td>...</td>\n",
       "    </tr>\n",
       "    <tr>\n",
       "      <th>4335</th>\n",
       "      <td>892022304</td>\n",
       "      <td>26</td>\n",
       "      <td>227</td>\n",
       "      <td>NaN</td>\n",
       "      <td>United States of America</td>\n",
       "      <td>NaN</td>\n",
       "      <td>0</td>\n",
       "      <td>23</td>\n",
       "      <td>29</td>\n",
       "      <td>427</td>\n",
       "      <td>NaN</td>\n",
       "      <td>NaN</td>\n",
       "      <td>0</td>\n",
       "      <td>control_1</td>\n",
       "      <td>25-35</td>\n",
       "    </tr>\n",
       "    <tr>\n",
       "      <th>4336</th>\n",
       "      <td>891905022</td>\n",
       "      <td>38</td>\n",
       "      <td>200</td>\n",
       "      <td>NaN</td>\n",
       "      <td>Argentina</td>\n",
       "      <td>1,2,3,4,5,6,7,8,9,10,11,13,14,15,16,21</td>\n",
       "      <td>1</td>\n",
       "      <td>20</td>\n",
       "      <td>50</td>\n",
       "      <td>5</td>\n",
       "      <td>NaN</td>\n",
       "      <td>NaN</td>\n",
       "      <td>0</td>\n",
       "      <td>control_1</td>\n",
       "      <td>35-44</td>\n",
       "    </tr>\n",
       "    <tr>\n",
       "      <th>4337</th>\n",
       "      <td>891304722</td>\n",
       "      <td>49</td>\n",
       "      <td>411</td>\n",
       "      <td>NaN</td>\n",
       "      <td>United States of America</td>\n",
       "      <td>1</td>\n",
       "      <td>1</td>\n",
       "      <td>46</td>\n",
       "      <td>52</td>\n",
       "      <td>17</td>\n",
       "      <td>NaN</td>\n",
       "      <td>NaN</td>\n",
       "      <td>0</td>\n",
       "      <td>control_1</td>\n",
       "      <td>45-54</td>\n",
       "    </tr>\n",
       "    <tr>\n",
       "      <th>4338</th>\n",
       "      <td>891302328</td>\n",
       "      <td>27</td>\n",
       "      <td>0</td>\n",
       "      <td>NaN</td>\n",
       "      <td>United States of America</td>\n",
       "      <td>1,3,5</td>\n",
       "      <td>1</td>\n",
       "      <td>24</td>\n",
       "      <td>30</td>\n",
       "      <td>0</td>\n",
       "      <td>NaN</td>\n",
       "      <td>NaN</td>\n",
       "      <td>0</td>\n",
       "      <td>control_1</td>\n",
       "      <td>25-35</td>\n",
       "    </tr>\n",
       "    <tr>\n",
       "      <th>4339</th>\n",
       "      <td>891182532</td>\n",
       "      <td>31</td>\n",
       "      <td>1000</td>\n",
       "      <td>NaN</td>\n",
       "      <td>United States of America</td>\n",
       "      <td>1</td>\n",
       "      <td>1</td>\n",
       "      <td>19</td>\n",
       "      <td>34</td>\n",
       "      <td>2</td>\n",
       "      <td>NaN</td>\n",
       "      <td>NaN</td>\n",
       "      <td>0</td>\n",
       "      <td>control_1</td>\n",
       "      <td>25-35</td>\n",
       "    </tr>\n",
       "  </tbody>\n",
       "</table>\n",
       "<p>4340 rows × 15 columns</p>\n",
       "</div>"
      ],
      "text/plain": [
       "            uid  age  attraction_coeff  coins                   country  \\\n",
       "0     892319115   25               435    NaN  United States of America   \n",
       "1     891248523   29               500    NaN  United States of America   \n",
       "2     891670932   33               800    NaN                    France   \n",
       "3     891060786   26                 0    NaN                 Argentina   \n",
       "4     892006554   35               294    NaN  United States of America   \n",
       "...         ...  ...               ...    ...                       ...   \n",
       "4335  892022304   26               227    NaN  United States of America   \n",
       "4336  891905022   38               200    NaN                 Argentina   \n",
       "4337  891304722   49               411    NaN  United States of America   \n",
       "4338  891302328   27                 0    NaN  United States of America   \n",
       "4339  891182532   31              1000    NaN  United States of America   \n",
       "\n",
       "                                  visit_days  gender  age_filter_start  \\\n",
       "0                                1,2,3,4,5,6       0                22   \n",
       "1                                        1,2       1                26   \n",
       "2                     1,2,3,5,6,8,9,11,13,16       1                30   \n",
       "3                                  1,2,3,4,5       1                23   \n",
       "4          1,2,3,5,6,7,8,9,10,12,15,16,17,19       1                30   \n",
       "...                                      ...     ...               ...   \n",
       "4335                                     NaN       0                23   \n",
       "4336  1,2,3,4,5,6,7,8,9,10,11,13,14,15,16,21       1                20   \n",
       "4337                                       1       1                46   \n",
       "4338                                   1,3,5       1                24   \n",
       "4339                                       1       1                19   \n",
       "\n",
       "      age_filter_end  views_count  was_premium  is_premium  total_revenue  \\\n",
       "0                 32          982          NaN         NaN              0   \n",
       "1                 32           12          NaN         NaN              0   \n",
       "2                 36            5          NaN         NaN              0   \n",
       "3                 29            0          NaN         NaN              0   \n",
       "4                 40           17          NaN         NaN              0   \n",
       "...              ...          ...          ...         ...            ...   \n",
       "4335              29          427          NaN         NaN              0   \n",
       "4336              50            5          NaN         NaN              0   \n",
       "4337              52           17          NaN         NaN              0   \n",
       "4338              30            0          NaN         NaN              0   \n",
       "4339              34            2          NaN         NaN              0   \n",
       "\n",
       "          group age_category  \n",
       "0     control_1        25-35  \n",
       "1     control_1        25-35  \n",
       "2     control_1        25-35  \n",
       "3     control_1        25-35  \n",
       "4     control_1        35-44  \n",
       "...         ...          ...  \n",
       "4335  control_1        25-35  \n",
       "4336  control_1        35-44  \n",
       "4337  control_1        45-54  \n",
       "4338  control_1        25-35  \n",
       "4339  control_1        25-35  \n",
       "\n",
       "[4340 rows x 15 columns]"
      ]
     },
     "execution_count": 40,
     "metadata": {},
     "output_type": "execute_result"
    }
   ],
   "source": [
    "users_control_1"
   ]
  },
  {
   "cell_type": "code",
   "execution_count": 41,
   "metadata": {
    "id": "1QtgDd9tYYBB"
   },
   "outputs": [],
   "source": [
    "# Удалим все не нужные столбцы чтобы не путаться\n",
    "users_test_age = users_test[['gender', 'age', 'uid','age_category']]\n",
    "users_control_1_age = users_control_1[['gender', 'age', 'uid','age_category']]\n",
    "users_control_2_age = users_control_2[['gender', 'age', 'uid','age_category']]"
   ]
  },
  {
   "cell_type": "code",
   "execution_count": 42,
   "metadata": {
    "colab": {
     "base_uri": "https://localhost:8080/",
     "height": 424
    },
    "id": "tYWm9K49YX-O",
    "outputId": "7eb6d101-463f-4b60-803c-889c85c5ae8e"
   },
   "outputs": [
    {
     "data": {
      "text/html": [
       "<div>\n",
       "<style scoped>\n",
       "    .dataframe tbody tr th:only-of-type {\n",
       "        vertical-align: middle;\n",
       "    }\n",
       "\n",
       "    .dataframe tbody tr th {\n",
       "        vertical-align: top;\n",
       "    }\n",
       "\n",
       "    .dataframe thead th {\n",
       "        text-align: right;\n",
       "    }\n",
       "</style>\n",
       "<table border=\"1\" class=\"dataframe\">\n",
       "  <thead>\n",
       "    <tr style=\"text-align: right;\">\n",
       "      <th></th>\n",
       "      <th>uid</th>\n",
       "      <th>revenue</th>\n",
       "      <th>transactions</th>\n",
       "      <th>age</th>\n",
       "      <th>gender</th>\n",
       "      <th>age_category</th>\n",
       "      <th>AOV</th>\n",
       "    </tr>\n",
       "  </thead>\n",
       "  <tbody>\n",
       "    <tr>\n",
       "      <th>0</th>\n",
       "      <td>891071157</td>\n",
       "      <td>9100</td>\n",
       "      <td>1</td>\n",
       "      <td>22</td>\n",
       "      <td>1</td>\n",
       "      <td>18-24</td>\n",
       "      <td>9100.0</td>\n",
       "    </tr>\n",
       "    <tr>\n",
       "      <th>1</th>\n",
       "      <td>891152790</td>\n",
       "      <td>12597</td>\n",
       "      <td>1</td>\n",
       "      <td>29</td>\n",
       "      <td>1</td>\n",
       "      <td>25-35</td>\n",
       "      <td>12597.0</td>\n",
       "    </tr>\n",
       "    <tr>\n",
       "      <th>2</th>\n",
       "      <td>891174411</td>\n",
       "      <td>28080</td>\n",
       "      <td>6</td>\n",
       "      <td>35</td>\n",
       "      <td>1</td>\n",
       "      <td>35-44</td>\n",
       "      <td>4680.0</td>\n",
       "    </tr>\n",
       "    <tr>\n",
       "      <th>3</th>\n",
       "      <td>891175326</td>\n",
       "      <td>897</td>\n",
       "      <td>1</td>\n",
       "      <td>29</td>\n",
       "      <td>1</td>\n",
       "      <td>25-35</td>\n",
       "      <td>897.0</td>\n",
       "    </tr>\n",
       "    <tr>\n",
       "      <th>4</th>\n",
       "      <td>891178380</td>\n",
       "      <td>16393</td>\n",
       "      <td>2</td>\n",
       "      <td>42</td>\n",
       "      <td>1</td>\n",
       "      <td>35-44</td>\n",
       "      <td>8196.0</td>\n",
       "    </tr>\n",
       "    <tr>\n",
       "      <th>...</th>\n",
       "      <td>...</td>\n",
       "      <td>...</td>\n",
       "      <td>...</td>\n",
       "      <td>...</td>\n",
       "      <td>...</td>\n",
       "      <td>...</td>\n",
       "      <td>...</td>\n",
       "    </tr>\n",
       "    <tr>\n",
       "      <th>140</th>\n",
       "      <td>892426491</td>\n",
       "      <td>12597</td>\n",
       "      <td>1</td>\n",
       "      <td>48</td>\n",
       "      <td>1</td>\n",
       "      <td>45-54</td>\n",
       "      <td>12597.0</td>\n",
       "    </tr>\n",
       "    <tr>\n",
       "      <th>141</th>\n",
       "      <td>892430988</td>\n",
       "      <td>12727</td>\n",
       "      <td>1</td>\n",
       "      <td>28</td>\n",
       "      <td>1</td>\n",
       "      <td>25-35</td>\n",
       "      <td>12727.0</td>\n",
       "    </tr>\n",
       "    <tr>\n",
       "      <th>142</th>\n",
       "      <td>892431081</td>\n",
       "      <td>9087</td>\n",
       "      <td>1</td>\n",
       "      <td>44</td>\n",
       "      <td>1</td>\n",
       "      <td>45-54</td>\n",
       "      <td>9087.0</td>\n",
       "    </tr>\n",
       "    <tr>\n",
       "      <th>143</th>\n",
       "      <td>892434141</td>\n",
       "      <td>9165</td>\n",
       "      <td>2</td>\n",
       "      <td>21</td>\n",
       "      <td>1</td>\n",
       "      <td>18-24</td>\n",
       "      <td>4582.0</td>\n",
       "    </tr>\n",
       "    <tr>\n",
       "      <th>144</th>\n",
       "      <td>892438635</td>\n",
       "      <td>16653</td>\n",
       "      <td>1</td>\n",
       "      <td>25</td>\n",
       "      <td>1</td>\n",
       "      <td>25-35</td>\n",
       "      <td>16653.0</td>\n",
       "    </tr>\n",
       "  </tbody>\n",
       "</table>\n",
       "<p>145 rows × 7 columns</p>\n",
       "</div>"
      ],
      "text/plain": [
       "           uid  revenue  transactions  age  gender age_category      AOV\n",
       "0    891071157     9100             1   22       1        18-24   9100.0\n",
       "1    891152790    12597             1   29       1        25-35  12597.0\n",
       "2    891174411    28080             6   35       1        35-44   4680.0\n",
       "3    891175326      897             1   29       1        25-35    897.0\n",
       "4    891178380    16393             2   42       1        35-44   8196.0\n",
       "..         ...      ...           ...  ...     ...          ...      ...\n",
       "140  892426491    12597             1   48       1        45-54  12597.0\n",
       "141  892430988    12727             1   28       1        25-35  12727.0\n",
       "142  892431081     9087             1   44       1        45-54   9087.0\n",
       "143  892434141     9165             2   21       1        18-24   4582.0\n",
       "144  892438635    16653             1   25       1        25-35  16653.0\n",
       "\n",
       "[145 rows x 7 columns]"
      ]
     },
     "execution_count": 42,
     "metadata": {},
     "output_type": "execute_result"
    }
   ],
   "source": [
    "# Смерджим 2 датаффрейма тестовой выборки, а затем сгруппируем пользователей по возрастной категории, \n",
    "# и найдем кол-во транзакций и суммарный доход в каждой из категорий:\n",
    "\n",
    "age_category_test = transactions_test.merge(users_test_age, on = 'uid') \\\n",
    "                    .groupby('uid', as_index = False) \\\n",
    "                    .agg({'revenue':'sum', 'payment_id':'count', 'age':'min', 'gender':'min', 'age_category':'min'}) \\\n",
    "                    .rename(columns={'payment_id':'transactions'})\n",
    "\n",
    "# Найдем средний чек каждой возрастной категории:\n",
    "age_category_test['AOV'] = (age_category_test['revenue']/age_category_test['transactions']).round(0)\n",
    "age_category_test"
   ]
  },
  {
   "cell_type": "markdown",
   "metadata": {
    "id": "NMjFJ3S0bTmf"
   },
   "source": [
    "Диаграммы рассеяния неплохо подходят для исследования зависимости между переменными."
   ]
  },
  {
   "cell_type": "code",
   "execution_count": 43,
   "metadata": {
    "colab": {
     "base_uri": "https://localhost:8080/",
     "height": 374
    },
    "id": "zed-o_CbZIC4",
    "outputId": "714f6694-56ae-4868-b544-561ee65093b8"
   },
   "outputs": [
    {
     "data": {
      "text/plain": [
       "Text(0, 0.5, 'Нормированная выручка')"
      ]
     },
     "execution_count": 43,
     "metadata": {},
     "output_type": "execute_result"
    },
    {
     "data": {
      "image/png": "[encoded data removed]",
      "text/plain": [
       "<Figure size 720x360 with 1 Axes>"
      ]
     },
     "metadata": {},
     "output_type": "display_data"
    }
   ],
   "source": [
    " sns.set(style='whitegrid', rc={'figure.figsize': (10,5)})\n",
    "sns.scatterplot(x = 'age', y = 'revenue', data = age_category_test)\n",
    "plt.title('Взаимосвязь возроста пользователя и выручки')\n",
    "plt.xlabel('Возраст пользователя')\n",
    "plt.ylabel('Нормированная выручка')"
   ]
  },
  {
   "cell_type": "code",
   "execution_count": null,
   "metadata": {
    "id": "3CEnFut69fCn"
   },
   "outputs": [],
   "source": []
  },
  {
   "cell_type": "code",
   "execution_count": 44,
   "metadata": {
    "colab": {
     "base_uri": "https://localhost:8080/",
     "height": 384
    },
    "id": "FM6Z3XUEb8wA",
    "outputId": "6c5f5e30-4b70-4812-c32a-c3f5609860d6"
   },
   "outputs": [
    {
     "data": {
      "text/plain": [
       "<seaborn.axisgrid.FacetGrid at 0x230a68c55b0>"
      ]
     },
     "execution_count": 44,
     "metadata": {},
     "output_type": "execute_result"
    },
    {
     "data": {
      "image/png": "[encoded data removed]",
      "text/plain": [
       "<Figure size 406.175x360 with 1 Axes>"
      ]
     },
     "metadata": {},
     "output_type": "display_data"
    }
   ],
   "source": [
    "sns.set(style='whitegrid', rc={'figure.figsize': (10,5)})\n",
    "sns.lmplot(x='age', y='revenue', hue='gender', data=age_category_test)  # с добавлением группирующей переменной 'gender'"
   ]
  },
  {
   "cell_type": "code",
   "execution_count": 45,
   "metadata": {
    "id": "j8A0MtY-YX7W"
   },
   "outputs": [],
   "source": [
    "# Аналогично выполним для контр. выборки 1:\n",
    "age_category_1 = transactions_control_1.merge(users_control_1_age, on = 'uid') \\\n",
    "                    .groupby('uid', as_index = False) \\\n",
    "                    .agg({'revenue':'sum', 'payment_id':'count', 'age':'min', 'gender':'min', 'age_category':'min'}) \\\n",
    "                    .rename(columns={'payment_id':'transactions'})\n",
    "\n",
    "\n",
    "age_category_1['AOV'] = (age_category_1['revenue']/age_category_1['transactions']).round(0)"
   ]
  },
  {
   "cell_type": "code",
   "execution_count": 46,
   "metadata": {
    "colab": {
     "base_uri": "https://localhost:8080/",
     "height": 374
    },
    "id": "222nCU9D9Zj4",
    "outputId": "303440b4-49ff-4e76-d254-9b2cfd7b5c7d"
   },
   "outputs": [
    {
     "data": {
      "text/plain": [
       "Text(0, 0.5, 'Нормированная выручка')"
      ]
     },
     "execution_count": 46,
     "metadata": {},
     "output_type": "execute_result"
    },
    {
     "data": {
      "image/png": "[encoded data removed]",
      "text/plain": [
       "<Figure size 720x360 with 1 Axes>"
      ]
     },
     "metadata": {},
     "output_type": "display_data"
    }
   ],
   "source": [
    " sns.set(style='whitegrid', rc={'figure.figsize': (10,5)})\n",
    "sns.scatterplot(x = 'age', y = 'revenue', data = age_category_1)\n",
    "plt.title('Взаимосвязь возроста пользователя и выручки')\n",
    "plt.xlabel('Возраст пользователя')\n",
    "plt.ylabel('Нормированная выручка')"
   ]
  },
  {
   "cell_type": "code",
   "execution_count": 47,
   "metadata": {
    "colab": {
     "base_uri": "https://localhost:8080/",
     "height": 384
    },
    "id": "rfml1kg99Zf1",
    "outputId": "c7a60266-0efb-4b83-8380-3540a41ab3e8"
   },
   "outputs": [
    {
     "data": {
      "text/plain": [
       "<seaborn.axisgrid.FacetGrid at 0x230a6921730>"
      ]
     },
     "execution_count": 47,
     "metadata": {},
     "output_type": "execute_result"
    },
    {
     "data": {
      "image/png": "[encoded data removed]",
      "text/plain": [
       "<Figure size 406.175x360 with 1 Axes>"
      ]
     },
     "metadata": {},
     "output_type": "display_data"
    }
   ],
   "source": [
    "sns.set(style='whitegrid', rc={'figure.figsize': (10,5)})\n",
    "sns.lmplot(x='age', y='revenue', hue='gender', data=age_category_1)"
   ]
  },
  {
   "cell_type": "code",
   "execution_count": null,
   "metadata": {
    "id": "GqzD3MUL9tuu"
   },
   "outputs": [],
   "source": []
  },
  {
   "cell_type": "code",
   "execution_count": 48,
   "metadata": {
    "id": "wPI1wK26YX4b"
   },
   "outputs": [],
   "source": [
    "# Аналогично выполним для контр. выборки 2:\n",
    "age_category_2 = transactions_control_2.merge(users_control_2_age, on = 'uid') \\\n",
    "                    .groupby('uid', as_index = False) \\\n",
    "                    .agg({'revenue':'sum', 'payment_id':'count', 'age':'min', 'gender':'min', 'age_category':'min'}) \\\n",
    "                    .rename(columns={'payment_id':'transactions'})\n",
    "\n",
    "age_category_2['AOV'] = (age_category_2['revenue']/age_category_2['transactions']).round(0)"
   ]
  },
  {
   "cell_type": "code",
   "execution_count": 49,
   "metadata": {
    "colab": {
     "base_uri": "https://localhost:8080/",
     "height": 374
    },
    "id": "GAwnQhfg9aIw",
    "outputId": "69e42ae2-a909-4c1a-87ce-7debf45d49f7"
   },
   "outputs": [
    {
     "data": {
      "text/plain": [
       "Text(0, 0.5, 'Нормированная выручка')"
      ]
     },
     "execution_count": 49,
     "metadata": {},
     "output_type": "execute_result"
    },
    {
     "data": {
      "image/png": "[encoded data removed]",
      "text/plain": [
       "<Figure size 720x360 with 1 Axes>"
      ]
     },
     "metadata": {},
     "output_type": "display_data"
    }
   ],
   "source": [
    " sns.set(style='whitegrid', rc={'figure.figsize': (10,5)})\n",
    "sns.scatterplot(x = 'age', y = 'revenue', data = age_category_2)\n",
    "plt.title('Взаимосвязь возроста пользователя и выручки')\n",
    "plt.xlabel('Возраст пользователя')\n",
    "plt.ylabel('Нормированная выручка')"
   ]
  },
  {
   "cell_type": "code",
   "execution_count": 50,
   "metadata": {
    "colab": {
     "base_uri": "https://localhost:8080/",
     "height": 384
    },
    "id": "Ru6Gj6E89aGC",
    "outputId": "53e4bb46-21a3-4957-cc4a-d9e4409b61d1"
   },
   "outputs": [
    {
     "data": {
      "text/plain": [
       "<seaborn.axisgrid.FacetGrid at 0x230a69a9640>"
      ]
     },
     "execution_count": 50,
     "metadata": {},
     "output_type": "execute_result"
    },
    {
     "data": {
      "image/png": "[encoded data removed]",
      "text/plain": [
       "<Figure size 406.175x360 with 1 Axes>"
      ]
     },
     "metadata": {},
     "output_type": "display_data"
    }
   ],
   "source": [
    "sns.set(style='whitegrid', rc={'figure.figsize': (10,5)})\n",
    "sns.lmplot(x='age', y='revenue', hue='gender', data=age_category_1)"
   ]
  },
  {
   "cell_type": "code",
   "execution_count": 51,
   "metadata": {
    "colab": {
     "base_uri": "https://localhost:8080/"
    },
    "id": "awk93DsuddDB",
    "outputId": "d2c85bf1-8eea-4887-cd06-47d9d284f3f3"
   },
   "outputs": [
    {
     "name": "stdout",
     "output_type": "stream",
     "text": [
      "1    4158\n",
      "0     182\n",
      "Name: gender, dtype: int64\n",
      "\n",
      "1    4158\n",
      "0     182\n",
      "Name: gender, dtype: int64\n",
      "\n",
      "1    4106\n",
      "0     202\n",
      "Name: gender, dtype: int64\n"
     ]
    }
   ],
   "source": [
    "print(users_control_1.gender.value_counts())\n",
    "print()\n",
    "print(users_control_1.gender.value_counts())\n",
    "print()\n",
    "print(users_test.gender.value_counts())\n"
   ]
  },
  {
   "cell_type": "markdown",
   "metadata": {
    "id": "ZIxWXuk09fZu"
   },
   "source": [
    "**Инсайнт**: Есть подозрение, что система сплитования не совсем верно работала на параметр пола немного съела транзакции женщин). Поэтому можно проверить, правильно ли работает система сплитования по полу, не дескриминирует ли она женщин).  Поэтому, Фактор gender пока не очень интересен для дальнейшего анализа. Поправим данные - проверим еще раз"
   ]
  },
  {
   "cell_type": "markdown",
   "metadata": {
    "id": "ks6zz-H9SkhC"
   },
   "source": [
    "Ну а вообще, женщины и правда используют сервисы знакомств реже мужчин (вот исследование Касперского www.kaspersky.com/blog/online-dating-report), но сомневаюсь, что в 20 раз"
   ]
  },
  {
   "cell_type": "code",
   "execution_count": 52,
   "metadata": {
    "colab": {
     "base_uri": "https://localhost:8080/",
     "height": 472
    },
    "id": "Xciov929EokP",
    "outputId": "a3b15d95-d379-4c06-fcd9-0c89fff4dd66"
   },
   "outputs": [
    {
     "data": {
      "text/plain": [
       "<AxesSubplot:title={'center':'Динамика среднего чека в разрезе возрастных групп'}, xlabel='age_category', ylabel='AOV'>"
      ]
     },
     "execution_count": 52,
     "metadata": {},
     "output_type": "execute_result"
    },
    {
     "data": {
      "image/png": "[encoded data removed]",
      "text/plain": [
       "<Figure size 640x480 with 1 Axes>"
      ]
     },
     "metadata": {},
     "output_type": "display_data"
    }
   ],
   "source": [
    "#Столбец 'group', показывающий к какой группе принадлежит выборка\n",
    "age_category_test['group'] = 'test'\n",
    "age_category_1['group'] = 'control_1'\n",
    "age_category_2['group'] = 'control_2'\n",
    "\n",
    "# Склеим датафреймы в один\n",
    "age_categories = pd.concat([age_category_test, age_category_1,age_category_2])\n",
    "#Построим барплот\n",
    "plt.figure(figsize=(8, 6), dpi=80)\n",
    "plt.title('Динамика среднего чека в разрезе возрастных групп')\n",
    "sns.barplot(x=\"age_category\", y=\"AOV\", hue=\"group\", data=age_categories)"
   ]
  },
  {
   "cell_type": "markdown",
   "metadata": {
    "id": "ZBr4ebXuGldq"
   },
   "source": [
    "**Инсайнт**: Средний чек вырос во всех возрастных группах, значит, новвоведение стоит применять для всех возрастных категорий пользователей. Наиболее активно стали пользоваться платными услугами пользователи среднего возраста."
   ]
  },
  {
   "cell_type": "markdown",
   "metadata": {
    "id": "yvKgfZaz5p3d"
   },
   "source": [
    "# Посмотрим на данные в разрезе транзакций по типу продукта:"
   ]
  },
  {
   "cell_type": "code",
   "execution_count": 53,
   "metadata": {
    "id": "O7WipFy45sev"
   },
   "outputs": [],
   "source": [
    "# Для тестовой выборки:\n",
    "# Прогруппируем транзакции по типу приобретаемого продукта, найдем  суммарную выручку, средний чек в каждой группе:\n",
    "test_product_type = transactions_test.groupby('product_type', as_index=False)\\\n",
    "                        .agg({'revenue':'sum','uid':'count'}) \\\n",
    "                        .rename(columns={'uid':'transactions'})\n",
    "test_product_type['group'] = 'test'\n",
    "# Находим средний чек\n",
    "test_product_type['AOV'] = (test_product_type['revenue']/test_product_type['transactions']).round(0)\n",
    "# Считаем полную выручку\n",
    "test_product_type['total_revenue'] = test_product_type['revenue'].sum()\n",
    "# Считаем процент выручки от общей выручки\n",
    "test_product_type['%_revenue'] = (100*test_product_type['revenue']/test_product_type['total_revenue']).round(0) \n"
   ]
  },
  {
   "cell_type": "code",
   "execution_count": 54,
   "metadata": {
    "id": "QyAYtd1F5tD0"
   },
   "outputs": [],
   "source": [
    "# Аналогично для 1-ой контрольной группы:\n",
    "c1_product_type = transactions_control_1.groupby('product_type', as_index=False) \\\n",
    "                                    .agg({'revenue':'sum','uid':'count'}) \\\n",
    "                                    .rename(columns={'uid':'transactions'})\n",
    "c1_product_type['group'] = 'control_1'\n",
    "c1_product_type['AOV'] = (c1_product_type['revenue']/c1_product_type['transactions']).round(0)\n",
    "c1_product_type['total_revenue'] = c1_product_type['revenue'].sum()\n",
    "c1_product_type['%_revenue'] = (100*c1_product_type['revenue']/c1_product_type['total_revenue']).round(0)\n"
   ]
  },
  {
   "cell_type": "code",
   "execution_count": 55,
   "metadata": {
    "id": "Qig5fuKI5s98"
   },
   "outputs": [],
   "source": [
    "# И для 2-ой контрольной группы:\n",
    "c2_product_type = transactions_control_2.groupby('product_type', as_index=False) \\\n",
    "                                    .agg({'revenue':'sum','uid':'count'}) \\\n",
    "                                    .rename(columns={'uid':'transactions'})\n",
    "c2_product_type['group'] = 'control_2'\n",
    "c2_product_type['AOV'] = (c2_product_type['revenue']/c2_product_type['transactions']).round(0)\n",
    "c2_product_type['total_revenue'] = c2_product_type['revenue'].sum()\n",
    "c2_product_type['%_revenue'] = (100*c2_product_type['revenue']/c2_product_type['total_revenue']).round(0)\n",
    "\n",
    "\n",
    "# Объеденим в один датафрейм:\n",
    "all_product_type = pd.concat([test_product_type, c1_product_type, c2_product_type])"
   ]
  },
  {
   "cell_type": "code",
   "execution_count": 56,
   "metadata": {
    "colab": {
     "base_uri": "https://localhost:8080/",
     "height": 426
    },
    "id": "PDofdEvexuF0",
    "outputId": "b0c1a5b9-5a8c-4a09-e7c6-30f2084e1791"
   },
   "outputs": [
    {
     "data": {
      "text/html": [
       "<div>\n",
       "<style scoped>\n",
       "    .dataframe tbody tr th:only-of-type {\n",
       "        vertical-align: middle;\n",
       "    }\n",
       "\n",
       "    .dataframe tbody tr th {\n",
       "        vertical-align: top;\n",
       "    }\n",
       "\n",
       "    .dataframe thead th {\n",
       "        text-align: right;\n",
       "    }\n",
       "</style>\n",
       "<table border=\"1\" class=\"dataframe\">\n",
       "  <thead>\n",
       "    <tr style=\"text-align: right;\">\n",
       "      <th></th>\n",
       "      <th>product_type</th>\n",
       "      <th>revenue</th>\n",
       "      <th>transactions</th>\n",
       "      <th>group</th>\n",
       "      <th>AOV</th>\n",
       "      <th>total_revenue</th>\n",
       "      <th>%_revenue</th>\n",
       "    </tr>\n",
       "  </thead>\n",
       "  <tbody>\n",
       "    <tr>\n",
       "      <th>0</th>\n",
       "      <td>coins</td>\n",
       "      <td>377026.0</td>\n",
       "      <td>100</td>\n",
       "      <td>test</td>\n",
       "      <td>3770.0</td>\n",
       "      <td>1854450.0</td>\n",
       "      <td>20.0</td>\n",
       "    </tr>\n",
       "    <tr>\n",
       "      <th>1</th>\n",
       "      <td>other_type</td>\n",
       "      <td>93470.0</td>\n",
       "      <td>27</td>\n",
       "      <td>test</td>\n",
       "      <td>3462.0</td>\n",
       "      <td>1854450.0</td>\n",
       "      <td>5.0</td>\n",
       "    </tr>\n",
       "    <tr>\n",
       "      <th>2</th>\n",
       "      <td>premium_no_trial</td>\n",
       "      <td>583752.0</td>\n",
       "      <td>74</td>\n",
       "      <td>test</td>\n",
       "      <td>7889.0</td>\n",
       "      <td>1854450.0</td>\n",
       "      <td>31.0</td>\n",
       "    </tr>\n",
       "    <tr>\n",
       "      <th>3</th>\n",
       "      <td>trial_premium</td>\n",
       "      <td>800202.0</td>\n",
       "      <td>62</td>\n",
       "      <td>test</td>\n",
       "      <td>12906.0</td>\n",
       "      <td>1854450.0</td>\n",
       "      <td>43.0</td>\n",
       "    </tr>\n",
       "    <tr>\n",
       "      <th>0</th>\n",
       "      <td>coins</td>\n",
       "      <td>442312.0</td>\n",
       "      <td>132</td>\n",
       "      <td>control_1</td>\n",
       "      <td>3351.0</td>\n",
       "      <td>1457040.0</td>\n",
       "      <td>30.0</td>\n",
       "    </tr>\n",
       "    <tr>\n",
       "      <th>1</th>\n",
       "      <td>other_type</td>\n",
       "      <td>158158.0</td>\n",
       "      <td>54</td>\n",
       "      <td>control_1</td>\n",
       "      <td>2929.0</td>\n",
       "      <td>1457040.0</td>\n",
       "      <td>11.0</td>\n",
       "    </tr>\n",
       "    <tr>\n",
       "      <th>2</th>\n",
       "      <td>premium_no_trial</td>\n",
       "      <td>542425.0</td>\n",
       "      <td>102</td>\n",
       "      <td>control_1</td>\n",
       "      <td>5318.0</td>\n",
       "      <td>1457040.0</td>\n",
       "      <td>37.0</td>\n",
       "    </tr>\n",
       "    <tr>\n",
       "      <th>3</th>\n",
       "      <td>trial_premium</td>\n",
       "      <td>314145.0</td>\n",
       "      <td>33</td>\n",
       "      <td>control_1</td>\n",
       "      <td>9520.0</td>\n",
       "      <td>1457040.0</td>\n",
       "      <td>22.0</td>\n",
       "    </tr>\n",
       "    <tr>\n",
       "      <th>0</th>\n",
       "      <td>coins</td>\n",
       "      <td>344136.0</td>\n",
       "      <td>120</td>\n",
       "      <td>control_2</td>\n",
       "      <td>2868.0</td>\n",
       "      <td>1284517.0</td>\n",
       "      <td>27.0</td>\n",
       "    </tr>\n",
       "    <tr>\n",
       "      <th>1</th>\n",
       "      <td>other_type</td>\n",
       "      <td>128739.0</td>\n",
       "      <td>44</td>\n",
       "      <td>control_2</td>\n",
       "      <td>2926.0</td>\n",
       "      <td>1284517.0</td>\n",
       "      <td>10.0</td>\n",
       "    </tr>\n",
       "    <tr>\n",
       "      <th>2</th>\n",
       "      <td>premium_no_trial</td>\n",
       "      <td>599976.0</td>\n",
       "      <td>105</td>\n",
       "      <td>control_2</td>\n",
       "      <td>5714.0</td>\n",
       "      <td>1284517.0</td>\n",
       "      <td>47.0</td>\n",
       "    </tr>\n",
       "    <tr>\n",
       "      <th>3</th>\n",
       "      <td>trial_premium</td>\n",
       "      <td>211666.0</td>\n",
       "      <td>22</td>\n",
       "      <td>control_2</td>\n",
       "      <td>9621.0</td>\n",
       "      <td>1284517.0</td>\n",
       "      <td>16.0</td>\n",
       "    </tr>\n",
       "  </tbody>\n",
       "</table>\n",
       "</div>"
      ],
      "text/plain": [
       "       product_type   revenue  transactions      group      AOV  \\\n",
       "0             coins  377026.0           100       test   3770.0   \n",
       "1        other_type   93470.0            27       test   3462.0   \n",
       "2  premium_no_trial  583752.0            74       test   7889.0   \n",
       "3     trial_premium  800202.0            62       test  12906.0   \n",
       "0             coins  442312.0           132  control_1   3351.0   \n",
       "1        other_type  158158.0            54  control_1   2929.0   \n",
       "2  premium_no_trial  542425.0           102  control_1   5318.0   \n",
       "3     trial_premium  314145.0            33  control_1   9520.0   \n",
       "0             coins  344136.0           120  control_2   2868.0   \n",
       "1        other_type  128739.0            44  control_2   2926.0   \n",
       "2  premium_no_trial  599976.0           105  control_2   5714.0   \n",
       "3     trial_premium  211666.0            22  control_2   9621.0   \n",
       "\n",
       "   total_revenue  %_revenue  \n",
       "0      1854450.0       20.0  \n",
       "1      1854450.0        5.0  \n",
       "2      1854450.0       31.0  \n",
       "3      1854450.0       43.0  \n",
       "0      1457040.0       30.0  \n",
       "1      1457040.0       11.0  \n",
       "2      1457040.0       37.0  \n",
       "3      1457040.0       22.0  \n",
       "0      1284517.0       27.0  \n",
       "1      1284517.0       10.0  \n",
       "2      1284517.0       47.0  \n",
       "3      1284517.0       16.0  "
      ]
     },
     "execution_count": 56,
     "metadata": {},
     "output_type": "execute_result"
    }
   ],
   "source": [
    "all_product_type"
   ]
  },
  {
   "cell_type": "code",
   "execution_count": 57,
   "metadata": {
    "colab": {
     "base_uri": "https://localhost:8080/",
     "height": 356
    },
    "id": "CluD9X6ixvf7",
    "outputId": "ca5244ac-e37e-40de-ad56-a1fc6ad9f5a4"
   },
   "outputs": [
    {
     "data": {
      "image/png": "[encoded data removed]",
      "text/plain": [
       "<Figure size 720x360 with 1 Axes>"
      ]
     },
     "metadata": {},
     "output_type": "display_data"
    }
   ],
   "source": [
    "#барплот\n",
    "plt.title(\"Зав-cть ср. чека от типа приобретаемого продукта\")\n",
    "sns.barplot(x=\"product_type\", y=\"AOV\", hue=\"group\", data=all_product_type)\n",
    "plt.show()"
   ]
  },
  {
   "cell_type": "markdown",
   "metadata": {
    "id": "1y7aL-PWBIgV"
   },
   "source": [
    "Серьезно вырос средний чек в тестовой выборке среди групп пользователей, приобретающих пробную и полную премиум подписку. Средний чек у premium_no_trial из тестовой группы выше на 35% и 39%, чем у людей из 1-ой и 2-ой контрольных групп. А средний чек у trial_premium из тестовой группы выше на 30% и 34%, чем у людей из 1-ой и 2-ой контрольных групп. \n",
    "\n",
    "При этом средний чек пользователей, делающих другие покупки, даже незначительно подрос, а затраты на внутреннею валюту сократились. Это может значить, что пользователи пользуются премиум-подписками, не сокращая расходы на другие покупки, но реже покупают внутреннею валюту(coins)"
   ]
  },
  {
   "cell_type": "code",
   "execution_count": null,
   "metadata": {
    "id": "dRf8cAABI2F0"
   },
   "outputs": [],
   "source": []
  },
  {
   "cell_type": "markdown",
   "metadata": {
    "id": "2nCLd3ksE-6W"
   },
   "source": [
    "# Коэффициент привлекательности\n",
    "Коэффициент привлекательности это основа экономики дейтинговых приложений, характеризующая в том числе и поведение пользователя. Возраст же влияет как на платежеспособность, так и на внешность, умение заводить отношения и поддерживать общение, обращение с гаджетами и поведение в социальных сетях."
   ]
  },
  {
   "cell_type": "code",
   "execution_count": 58,
   "metadata": {
    "colab": {
     "base_uri": "https://localhost:8080/"
    },
    "id": "kfzesHTaFEXm",
    "outputId": "6441e851-5e33-49d1-e1ac-58e2e19a0f4c"
   },
   "outputs": [
    {
     "data": {
      "text/plain": [
       "316"
      ]
     },
     "execution_count": 58,
     "metadata": {},
     "output_type": "execute_result"
    }
   ],
   "source": [
    " mean_1 = round(users_control_1.attraction_coeff.mean())\n",
    " mean_test = round(users_test.attraction_coeff.mean())\n",
    " mean_2 = round(users_control_2.attraction_coeff.mean())\n",
    " mean_test"
   ]
  },
  {
   "cell_type": "code",
   "execution_count": 59,
   "metadata": {
    "colab": {
     "base_uri": "https://localhost:8080/",
     "height": 407,
     "referenced_widgets": [
      "e365e43353674afe96f8eb291511c8e7",
      "b7dcb30713874a5f929979fbf2774250",
      "ef7c243bf02441209d43e21b0d175ed6",
      "0b963fd274ed408ab77d40a25e5bd6ce",
      "ff07c6f3e3cb430c93cde6cf9341778a",
      "ac39309509534101ad8c44cccb51947f",
      "af4f41d3289a46baac4ebeaae2fc1a9a",
      "21df9fb51c8542a0b1c02076536ee61e",
      "cf2c9560f7be47b98f03caf4b8424196",
      "36e5c48cfe4f4fd4a5396f50ec3265c0",
      "af7dc81f92b14b188c4ff3bd70e0f9e9"
     ]
    },
    "id": "z0YfBho-FGxI",
    "outputId": "42baf496-8789-488d-9ffc-cca5a9c3fd10"
   },
   "outputs": [
    {
     "data": {
      "application/vnd.jupyter.widget-view+json": {
       "model_id": "2f14695b75e44343aaf5fba0724f4bc6",
       "version_major": 2,
       "version_minor": 0
      },
      "text/plain": [
       "  0%|          | 0/10000 [00:00<?, ?it/s]"
      ]
     },
     "metadata": {},
     "output_type": "display_data"
    },
    {
     "data": {
      "image/png": "[encoded data removed]",
      "text/plain": [
       "<Figure size 720x360 with 1 Axes>"
      ]
     },
     "metadata": {},
     "output_type": "display_data"
    },
    {
     "name": "stdout",
     "output_type": "stream",
     "text": [
      "p-value: 0.7391626594996454\n"
     ]
    }
   ],
   "source": [
    "attraction_1 = users_control_1.query('attraction_coeff < @mean_1 & total_revenue != 0')['total_revenue']\n",
    "attraction_test = users_test.query('attraction_coeff < @mean_test & total_revenue != 0')['total_revenue']\n",
    "booted_data = get_bootstrap(attraction_test, attraction_1)\n",
    "print('p-value:', booted_data[\"p_value\"])"
   ]
  },
  {
   "cell_type": "code",
   "execution_count": 60,
   "metadata": {
    "colab": {
     "base_uri": "https://localhost:8080/",
     "height": 112
    },
    "id": "KtEY77K0FK_3",
    "outputId": "7d2a3a00-64d1-4b6d-a2cc-6350dc2427ae"
   },
   "outputs": [
    {
     "data": {
      "text/html": [
       "<div>\n",
       "<style scoped>\n",
       "    .dataframe tbody tr th:only-of-type {\n",
       "        vertical-align: middle;\n",
       "    }\n",
       "\n",
       "    .dataframe tbody tr th {\n",
       "        vertical-align: top;\n",
       "    }\n",
       "\n",
       "    .dataframe thead th {\n",
       "        text-align: right;\n",
       "    }\n",
       "</style>\n",
       "<table border=\"1\" class=\"dataframe\">\n",
       "  <thead>\n",
       "    <tr style=\"text-align: right;\">\n",
       "      <th></th>\n",
       "      <th>0</th>\n",
       "    </tr>\n",
       "  </thead>\n",
       "  <tbody>\n",
       "    <tr>\n",
       "      <th>0.025</th>\n",
       "      <td>-9618.795952</td>\n",
       "    </tr>\n",
       "    <tr>\n",
       "      <th>0.975</th>\n",
       "      <td>9625.599286</td>\n",
       "    </tr>\n",
       "  </tbody>\n",
       "</table>\n",
       "</div>"
      ],
      "text/plain": [
       "                 0\n",
       "0.025 -9618.795952\n",
       "0.975  9625.599286"
      ]
     },
     "execution_count": 60,
     "metadata": {},
     "output_type": "execute_result"
    }
   ],
   "source": [
    "booted_data[\"quants\"]"
   ]
  },
  {
   "cell_type": "markdown",
   "metadata": {
    "id": "-gYV-c8jKadv"
   },
   "source": [
    "Изменение суммы платежей повлияло на пользователей с рейтингом меньше среднего. При этом, это большая группа, которая составляет около половины пользователей. Людям с низким рейтингом нужно чаще использовать платные функции приложений, чтобы привлекать внимание к профилю."
   ]
  },
  {
   "cell_type": "markdown",
   "metadata": {
    "id": "PmoRMLbrP0Ux"
   },
   "source": [
    "# Заключение\n",
    "\n",
    "\n",
    "1. А\\A-тест показал, что 2 контрольные группы статистически идентичны на 95% уровне значимости, следовательно, система сплитования сработала корректно, а эксперимент прошел успешно.\n",
    " \n",
    "\n",
    "2. Средний чек в тестовой группе на 95% уровне значимости отличатся от среднего чека контрольных групп. Причем наиболее вероятное отклонение значения среднего чека составляет 2500-2600. Таким образом, новвоведение позволило увеличить средний чек на 2400-2600(на 50-60%, между прочим!)\n",
    "\n",
    "\n",
    "3. По странам средний чек увеличился во Франции, Израиле, Италии, Испании и США. Чтобы посмотреть более корректное изменение среднего чека в разрезе стран, надо бы увеличить объем выборки, поскольку, к сожалению, данных при данном эксперименте было недостаточно.\n",
    "\n",
    "\n",
    "4. После нововведения значительно повысился средний чек во всех возрастных группах, но наиболее активно стали пользоваться платными услугами пользователи в возрасте 25-35 лет и пользователи в возрасте 45-54(что немного удивило). Еще, есть подозрения, что система сплитования по гендерному признаку работала не совсем корректно. Да и вообще к логгированию есть вопросы, помимо гендера, замечены дубли транзакций, что формирует выбросы в статистиках, а также revenue и total_revenue по описанию обозначают одно и то же, при этом данные в них иногда не одинаковые\n",
    "\n",
    "\n",
    "5. При появлении новвоведения пользователи чаще пользуются премиум-подписками, не сокращая расходы на другие покупки, но реже покупают внутреннею валюту(coins). При это средний чек группы пользователей, покупающих платную подписку без пробной увеличился на 30-40%, средний чек покупающих пробную подписку вырос на 30%\n",
    "\n",
    "\n",
    "7. Изменение суммы платежей повлияло на пользователей с коэффициентом привлекательности ниже среднего. Видимо, людям с низким рейтингом нужно чаще использовать платные функции приложений, чтобы привлекать внимание к профилю.\n"
   ]
  },
  {
   "cell_type": "code",
   "execution_count": null,
   "metadata": {
    "id": "vI-rSw57IZmw"
   },
   "outputs": [],
   "source": []
  }
 ],
 "metadata": {
  "colab": {
   "collapsed_sections": [
    "QRLEWDnIPfAz"
   ],
   "name": "Копия блокнота \"Pet_Dating\"",
   "provenance": []
  },
  "kernelspec": {
   "display_name": "Python 3 (ipykernel)",
   "language": "python",
   "name": "python3"
  },
  "language_info": {
   "codemirror_mode": {
    "name": "ipython",
    "version": 3
   },
   "file_extension": ".py",
   "mimetype": "text/x-python",
   "name": "python",
   "nbconvert_exporter": "python",
   "pygments_lexer": "ipython3",
   "version": "3.9.7"
  },
  "widgets": {
   "application/vnd.jupyter.widget-state+json": {
    "014d326a0ea74f3295dcf525aeed1e34": {
     "model_module": "@jupyter-widgets/controls",
     "model_module_version": "1.5.0",
     "model_name": "FloatProgressModel",
     "state": {
      "_dom_classes": [],
      "_model_module": "@jupyter-widgets/controls",
      "_model_module_version": "1.5.0",
      "_model_name": "FloatProgressModel",
      "_view_count": null,
      "_view_module": "@jupyter-widgets/controls",
      "_view_module_version": "1.5.0",
      "_view_name": "ProgressView",
      "bar_style": "success",
      "description": "",
      "description_tooltip": null,
      "layout": "IPY_MODEL_c51bb9f2c9a043a98e574933b5e632e4",
      "max": 10000,
      "min": 0,
      "orientation": "horizontal",
      "style": "IPY_MODEL_ca88d413a9764fe994256ef5533737c9",
      "value": 10000
     }
    },
    "077e4cc57bac43408692d042899dc3a1": {
     "model_module": "@jupyter-widgets/controls",
     "model_module_version": "1.5.0",
     "model_name": "DescriptionStyleModel",
     "state": {
      "_model_module": "@jupyter-widgets/controls",
      "_model_module_version": "1.5.0",
      "_model_name": "DescriptionStyleModel",
      "_view_count": null,
      "_view_module": "@jupyter-widgets/base",
      "_view_module_version": "1.2.0",
      "_view_name": "StyleView",
      "description_width": ""
     }
    },
    "0b963fd274ed408ab77d40a25e5bd6ce": {
     "model_module": "@jupyter-widgets/controls",
     "model_module_version": "1.5.0",
     "model_name": "FloatProgressModel",
     "state": {
      "_dom_classes": [],
      "_model_module": "@jupyter-widgets/controls",
      "_model_module_version": "1.5.0",
      "_model_name": "FloatProgressModel",
      "_view_count": null,
      "_view_module": "@jupyter-widgets/controls",
      "_view_module_version": "1.5.0",
      "_view_name": "ProgressView",
      "bar_style": "success",
      "description": "",
      "description_tooltip": null,
      "layout": "IPY_MODEL_cf2c9560f7be47b98f03caf4b8424196",
      "max": 10000,
      "min": 0,
      "orientation": "horizontal",
      "style": "IPY_MODEL_21df9fb51c8542a0b1c02076536ee61e",
      "value": 10000
     }
    },
    "0df8685dccfc437bac90b5389bf1360e": {
     "model_module": "@jupyter-widgets/base",
     "model_module_version": "1.2.0",
     "model_name": "LayoutModel",
     "state": {
      "_model_module": "@jupyter-widgets/base",
      "_model_module_version": "1.2.0",
      "_model_name": "LayoutModel",
      "_view_count": null,
      "_view_module": "@jupyter-widgets/base",
      "_view_module_version": "1.2.0",
      "_view_name": "LayoutView",
      "align_content": null,
      "align_items": null,
      "align_self": null,
      "border": null,
      "bottom": null,
      "display": null,
      "flex": null,
      "flex_flow": null,
      "grid_area": null,
      "grid_auto_columns": null,
      "grid_auto_flow": null,
      "grid_auto_rows": null,
      "grid_column": null,
      "grid_gap": null,
      "grid_row": null,
      "grid_template_areas": null,
      "grid_template_columns": null,
      "grid_template_rows": null,
      "height": null,
      "justify_content": null,
      "justify_items": null,
      "left": null,
      "margin": null,
      "max_height": null,
      "max_width": null,
      "min_height": null,
      "min_width": null,
      "object_fit": null,
      "object_position": null,
      "order": null,
      "overflow": null,
      "overflow_x": null,
      "overflow_y": null,
      "padding": null,
      "right": null,
      "top": null,
      "visibility": null,
      "width": null
     }
    },
    "0e04fb2242fc45af8c43ebb22e1e620d": {
     "model_module": "@jupyter-widgets/controls",
     "model_module_version": "1.5.0",
     "model_name": "HBoxModel",
     "state": {
      "_dom_classes": [],
      "_model_module": "@jupyter-widgets/controls",
      "_model_module_version": "1.5.0",
      "_model_name": "HBoxModel",
      "_view_count": null,
      "_view_module": "@jupyter-widgets/controls",
      "_view_module_version": "1.5.0",
      "_view_name": "HBoxView",
      "box_style": "",
      "children": [
       "IPY_MODEL_961e2711fdd446318df0b6fdc56c736d",
       "IPY_MODEL_f80d2b1874e5416a9812ffccfd5bd576",
       "IPY_MODEL_30fd5a772c794951b1afceb3e927a750"
      ],
      "layout": "IPY_MODEL_4f745b7fbc974126b262824cf3e7f1b2"
     }
    },
    "1dc5f10a1d8c45b4b1fde0f6461a6caf": {
     "model_module": "@jupyter-widgets/base",
     "model_module_version": "1.2.0",
     "model_name": "LayoutModel",
     "state": {
      "_model_module": "@jupyter-widgets/base",
      "_model_module_version": "1.2.0",
      "_model_name": "LayoutModel",
      "_view_count": null,
      "_view_module": "@jupyter-widgets/base",
      "_view_module_version": "1.2.0",
      "_view_name": "LayoutView",
      "align_content": null,
      "align_items": null,
      "align_self": null,
      "border": null,
      "bottom": null,
      "display": null,
      "flex": null,
      "flex_flow": null,
      "grid_area": null,
      "grid_auto_columns": null,
      "grid_auto_flow": null,
      "grid_auto_rows": null,
      "grid_column": null,
      "grid_gap": null,
      "grid_row": null,
      "grid_template_areas": null,
      "grid_template_columns": null,
      "grid_template_rows": null,
      "height": null,
      "justify_content": null,
      "justify_items": null,
      "left": null,
      "margin": null,
      "max_height": null,
      "max_width": null,
      "min_height": null,
      "min_width": null,
      "object_fit": null,
      "object_position": null,
      "order": null,
      "overflow": null,
      "overflow_x": null,
      "overflow_y": null,
      "padding": null,
      "right": null,
      "top": null,
      "visibility": null,
      "width": null
     }
    },
    "20aeff96f9da4cf7be84eb329906b393": {
     "model_module": "@jupyter-widgets/controls",
     "model_module_version": "1.5.0",
     "model_name": "HBoxModel",
     "state": {
      "_dom_classes": [],
      "_model_module": "@jupyter-widgets/controls",
      "_model_module_version": "1.5.0",
      "_model_name": "HBoxModel",
      "_view_count": null,
      "_view_module": "@jupyter-widgets/controls",
      "_view_module_version": "1.5.0",
      "_view_name": "HBoxView",
      "box_style": "",
      "children": [
       "IPY_MODEL_34cb5dcc90ff4c229ac8976a4bb5ffde",
       "IPY_MODEL_9fae0d340fb345bb8eb2e512b7843649",
       "IPY_MODEL_bd7f5cca7e0546e5bfb86e924c980fbb"
      ],
      "layout": "IPY_MODEL_f0b0b682868d46c6a000af5422911d95"
     }
    },
    "211531ef39174337a90c4cd80990f8ab": {
     "model_module": "@jupyter-widgets/controls",
     "model_module_version": "1.5.0",
     "model_name": "HTMLModel",
     "state": {
      "_dom_classes": [],
      "_model_module": "@jupyter-widgets/controls",
      "_model_module_version": "1.5.0",
      "_model_name": "HTMLModel",
      "_view_count": null,
      "_view_module": "@jupyter-widgets/controls",
      "_view_module_version": "1.5.0",
      "_view_name": "HTMLView",
      "description": "",
      "description_tooltip": null,
      "layout": "IPY_MODEL_f01bce7b62ba432d9120497ec8eb2d2a",
      "placeholder": "​",
      "style": "IPY_MODEL_077e4cc57bac43408692d042899dc3a1",
      "value": "100%"
     }
    },
    "21df9fb51c8542a0b1c02076536ee61e": {
     "model_module": "@jupyter-widgets/controls",
     "model_module_version": "1.5.0",
     "model_name": "ProgressStyleModel",
     "state": {
      "_model_module": "@jupyter-widgets/controls",
      "_model_module_version": "1.5.0",
      "_model_name": "ProgressStyleModel",
      "_view_count": null,
      "_view_module": "@jupyter-widgets/base",
      "_view_module_version": "1.2.0",
      "_view_name": "StyleView",
      "bar_color": null,
      "description_width": ""
     }
    },
    "21e074d326574f88bc4a5a50888818d8": {
     "model_module": "@jupyter-widgets/base",
     "model_module_version": "1.2.0",
     "model_name": "LayoutModel",
     "state": {
      "_model_module": "@jupyter-widgets/base",
      "_model_module_version": "1.2.0",
      "_model_name": "LayoutModel",
      "_view_count": null,
      "_view_module": "@jupyter-widgets/base",
      "_view_module_version": "1.2.0",
      "_view_name": "LayoutView",
      "align_content": null,
      "align_items": null,
      "align_self": null,
      "border": null,
      "bottom": null,
      "display": null,
      "flex": null,
      "flex_flow": null,
      "grid_area": null,
      "grid_auto_columns": null,
      "grid_auto_flow": null,
      "grid_auto_rows": null,
      "grid_column": null,
      "grid_gap": null,
      "grid_row": null,
      "grid_template_areas": null,
      "grid_template_columns": null,
      "grid_template_rows": null,
      "height": null,
      "justify_content": null,
      "justify_items": null,
      "left": null,
      "margin": null,
      "max_height": null,
      "max_width": null,
      "min_height": null,
      "min_width": null,
      "object_fit": null,
      "object_position": null,
      "order": null,
      "overflow": null,
      "overflow_x": null,
      "overflow_y": null,
      "padding": null,
      "right": null,
      "top": null,
      "visibility": null,
      "width": null
     }
    },
    "2a0a98942ae148ed92f1ee8642388385": {
     "model_module": "@jupyter-widgets/controls",
     "model_module_version": "1.5.0",
     "model_name": "HTMLModel",
     "state": {
      "_dom_classes": [],
      "_model_module": "@jupyter-widgets/controls",
      "_model_module_version": "1.5.0",
      "_model_name": "HTMLModel",
      "_view_count": null,
      "_view_module": "@jupyter-widgets/controls",
      "_view_module_version": "1.5.0",
      "_view_name": "HTMLView",
      "description": "",
      "description_tooltip": null,
      "layout": "IPY_MODEL_2fba535c67274aa39b29c955b70832de",
      "placeholder": "​",
      "style": "IPY_MODEL_b81cccb7767a441bbde0b255bfa311d1",
      "value": " 10000/10000 [00:02&lt;00:00, 3602.13it/s]"
     }
    },
    "2d5a7824398e41b6b7981b0d7dde79ae": {
     "model_module": "@jupyter-widgets/base",
     "model_module_version": "1.2.0",
     "model_name": "LayoutModel",
     "state": {
      "_model_module": "@jupyter-widgets/base",
      "_model_module_version": "1.2.0",
      "_model_name": "LayoutModel",
      "_view_count": null,
      "_view_module": "@jupyter-widgets/base",
      "_view_module_version": "1.2.0",
      "_view_name": "LayoutView",
      "align_content": null,
      "align_items": null,
      "align_self": null,
      "border": null,
      "bottom": null,
      "display": null,
      "flex": null,
      "flex_flow": null,
      "grid_area": null,
      "grid_auto_columns": null,
      "grid_auto_flow": null,
      "grid_auto_rows": null,
      "grid_column": null,
      "grid_gap": null,
      "grid_row": null,
      "grid_template_areas": null,
      "grid_template_columns": null,
      "grid_template_rows": null,
      "height": null,
      "justify_content": null,
      "justify_items": null,
      "left": null,
      "margin": null,
      "max_height": null,
      "max_width": null,
      "min_height": null,
      "min_width": null,
      "object_fit": null,
      "object_position": null,
      "order": null,
      "overflow": null,
      "overflow_x": null,
      "overflow_y": null,
      "padding": null,
      "right": null,
      "top": null,
      "visibility": null,
      "width": null
     }
    },
    "2fba535c67274aa39b29c955b70832de": {
     "model_module": "@jupyter-widgets/base",
     "model_module_version": "1.2.0",
     "model_name": "LayoutModel",
     "state": {
      "_model_module": "@jupyter-widgets/base",
      "_model_module_version": "1.2.0",
      "_model_name": "LayoutModel",
      "_view_count": null,
      "_view_module": "@jupyter-widgets/base",
      "_view_module_version": "1.2.0",
      "_view_name": "LayoutView",
      "align_content": null,
      "align_items": null,
      "align_self": null,
      "border": null,
      "bottom": null,
      "display": null,
      "flex": null,
      "flex_flow": null,
      "grid_area": null,
      "grid_auto_columns": null,
      "grid_auto_flow": null,
      "grid_auto_rows": null,
      "grid_column": null,
      "grid_gap": null,
      "grid_row": null,
      "grid_template_areas": null,
      "grid_template_columns": null,
      "grid_template_rows": null,
      "height": null,
      "justify_content": null,
      "justify_items": null,
      "left": null,
      "margin": null,
      "max_height": null,
      "max_width": null,
      "min_height": null,
      "min_width": null,
      "object_fit": null,
      "object_position": null,
      "order": null,
      "overflow": null,
      "overflow_x": null,
      "overflow_y": null,
      "padding": null,
      "right": null,
      "top": null,
      "visibility": null,
      "width": null
     }
    },
    "30fd5a772c794951b1afceb3e927a750": {
     "model_module": "@jupyter-widgets/controls",
     "model_module_version": "1.5.0",
     "model_name": "HTMLModel",
     "state": {
      "_dom_classes": [],
      "_model_module": "@jupyter-widgets/controls",
      "_model_module_version": "1.5.0",
      "_model_name": "HTMLModel",
      "_view_count": null,
      "_view_module": "@jupyter-widgets/controls",
      "_view_module_version": "1.5.0",
      "_view_name": "HTMLView",
      "description": "",
      "description_tooltip": null,
      "layout": "IPY_MODEL_5da83e59a5df4b038d409b1c849d2900",
      "placeholder": "​",
      "style": "IPY_MODEL_af0d96f1645148cc8e5f6e8f5798f87c",
      "value": " 10000/10000 [00:05&lt;00:00, 1727.82it/s]"
     }
    },
    "31ce4630cd5d43cd9677f4698582d2eb": {
     "model_module": "@jupyter-widgets/controls",
     "model_module_version": "1.5.0",
     "model_name": "HTMLModel",
     "state": {
      "_dom_classes": [],
      "_model_module": "@jupyter-widgets/controls",
      "_model_module_version": "1.5.0",
      "_model_name": "HTMLModel",
      "_view_count": null,
      "_view_module": "@jupyter-widgets/controls",
      "_view_module_version": "1.5.0",
      "_view_name": "HTMLView",
      "description": "",
      "description_tooltip": null,
      "layout": "IPY_MODEL_63b35b8000174ba080b600ca673e1848",
      "placeholder": "​",
      "style": "IPY_MODEL_6c1a7e5e7df84edeb5f84cececb689c9",
      "value": "100%"
     }
    },
    "34cb5dcc90ff4c229ac8976a4bb5ffde": {
     "model_module": "@jupyter-widgets/controls",
     "model_module_version": "1.5.0",
     "model_name": "HTMLModel",
     "state": {
      "_dom_classes": [],
      "_model_module": "@jupyter-widgets/controls",
      "_model_module_version": "1.5.0",
      "_model_name": "HTMLModel",
      "_view_count": null,
      "_view_module": "@jupyter-widgets/controls",
      "_view_module_version": "1.5.0",
      "_view_name": "HTMLView",
      "description": "",
      "description_tooltip": null,
      "layout": "IPY_MODEL_f779387b61fc43d9810eaf87a969710b",
      "placeholder": "​",
      "style": "IPY_MODEL_d17af50e516d4da980a0f9ec8451d442",
      "value": "100%"
     }
    },
    "36e5c48cfe4f4fd4a5396f50ec3265c0": {
     "model_module": "@jupyter-widgets/controls",
     "model_module_version": "1.5.0",
     "model_name": "DescriptionStyleModel",
     "state": {
      "_model_module": "@jupyter-widgets/controls",
      "_model_module_version": "1.5.0",
      "_model_name": "DescriptionStyleModel",
      "_view_count": null,
      "_view_module": "@jupyter-widgets/base",
      "_view_module_version": "1.2.0",
      "_view_name": "StyleView",
      "description_width": ""
     }
    },
    "38f8a88a548d493094008b2a9aa1bbe3": {
     "model_module": "@jupyter-widgets/base",
     "model_module_version": "1.2.0",
     "model_name": "LayoutModel",
     "state": {
      "_model_module": "@jupyter-widgets/base",
      "_model_module_version": "1.2.0",
      "_model_name": "LayoutModel",
      "_view_count": null,
      "_view_module": "@jupyter-widgets/base",
      "_view_module_version": "1.2.0",
      "_view_name": "LayoutView",
      "align_content": null,
      "align_items": null,
      "align_self": null,
      "border": null,
      "bottom": null,
      "display": null,
      "flex": null,
      "flex_flow": null,
      "grid_area": null,
      "grid_auto_columns": null,
      "grid_auto_flow": null,
      "grid_auto_rows": null,
      "grid_column": null,
      "grid_gap": null,
      "grid_row": null,
      "grid_template_areas": null,
      "grid_template_columns": null,
      "grid_template_rows": null,
      "height": null,
      "justify_content": null,
      "justify_items": null,
      "left": null,
      "margin": null,
      "max_height": null,
      "max_width": null,
      "min_height": null,
      "min_width": null,
      "object_fit": null,
      "object_position": null,
      "order": null,
      "overflow": null,
      "overflow_x": null,
      "overflow_y": null,
      "padding": null,
      "right": null,
      "top": null,
      "visibility": null,
      "width": null
     }
    },
    "4f745b7fbc974126b262824cf3e7f1b2": {
     "model_module": "@jupyter-widgets/base",
     "model_module_version": "1.2.0",
     "model_name": "LayoutModel",
     "state": {
      "_model_module": "@jupyter-widgets/base",
      "_model_module_version": "1.2.0",
      "_model_name": "LayoutModel",
      "_view_count": null,
      "_view_module": "@jupyter-widgets/base",
      "_view_module_version": "1.2.0",
      "_view_name": "LayoutView",
      "align_content": null,
      "align_items": null,
      "align_self": null,
      "border": null,
      "bottom": null,
      "display": null,
      "flex": null,
      "flex_flow": null,
      "grid_area": null,
      "grid_auto_columns": null,
      "grid_auto_flow": null,
      "grid_auto_rows": null,
      "grid_column": null,
      "grid_gap": null,
      "grid_row": null,
      "grid_template_areas": null,
      "grid_template_columns": null,
      "grid_template_rows": null,
      "height": null,
      "justify_content": null,
      "justify_items": null,
      "left": null,
      "margin": null,
      "max_height": null,
      "max_width": null,
      "min_height": null,
      "min_width": null,
      "object_fit": null,
      "object_position": null,
      "order": null,
      "overflow": null,
      "overflow_x": null,
      "overflow_y": null,
      "padding": null,
      "right": null,
      "top": null,
      "visibility": null,
      "width": null
     }
    },
    "599dc6ad8e47480b80c792ea9f9e3489": {
     "model_module": "@jupyter-widgets/base",
     "model_module_version": "1.2.0",
     "model_name": "LayoutModel",
     "state": {
      "_model_module": "@jupyter-widgets/base",
      "_model_module_version": "1.2.0",
      "_model_name": "LayoutModel",
      "_view_count": null,
      "_view_module": "@jupyter-widgets/base",
      "_view_module_version": "1.2.0",
      "_view_name": "LayoutView",
      "align_content": null,
      "align_items": null,
      "align_self": null,
      "border": null,
      "bottom": null,
      "display": null,
      "flex": null,
      "flex_flow": null,
      "grid_area": null,
      "grid_auto_columns": null,
      "grid_auto_flow": null,
      "grid_auto_rows": null,
      "grid_column": null,
      "grid_gap": null,
      "grid_row": null,
      "grid_template_areas": null,
      "grid_template_columns": null,
      "grid_template_rows": null,
      "height": null,
      "justify_content": null,
      "justify_items": null,
      "left": null,
      "margin": null,
      "max_height": null,
      "max_width": null,
      "min_height": null,
      "min_width": null,
      "object_fit": null,
      "object_position": null,
      "order": null,
      "overflow": null,
      "overflow_x": null,
      "overflow_y": null,
      "padding": null,
      "right": null,
      "top": null,
      "visibility": null,
      "width": null
     }
    },
    "5da83e59a5df4b038d409b1c849d2900": {
     "model_module": "@jupyter-widgets/base",
     "model_module_version": "1.2.0",
     "model_name": "LayoutModel",
     "state": {
      "_model_module": "@jupyter-widgets/base",
      "_model_module_version": "1.2.0",
      "_model_name": "LayoutModel",
      "_view_count": null,
      "_view_module": "@jupyter-widgets/base",
      "_view_module_version": "1.2.0",
      "_view_name": "LayoutView",
      "align_content": null,
      "align_items": null,
      "align_self": null,
      "border": null,
      "bottom": null,
      "display": null,
      "flex": null,
      "flex_flow": null,
      "grid_area": null,
      "grid_auto_columns": null,
      "grid_auto_flow": null,
      "grid_auto_rows": null,
      "grid_column": null,
      "grid_gap": null,
      "grid_row": null,
      "grid_template_areas": null,
      "grid_template_columns": null,
      "grid_template_rows": null,
      "height": null,
      "justify_content": null,
      "justify_items": null,
      "left": null,
      "margin": null,
      "max_height": null,
      "max_width": null,
      "min_height": null,
      "min_width": null,
      "object_fit": null,
      "object_position": null,
      "order": null,
      "overflow": null,
      "overflow_x": null,
      "overflow_y": null,
      "padding": null,
      "right": null,
      "top": null,
      "visibility": null,
      "width": null
     }
    },
    "63b35b8000174ba080b600ca673e1848": {
     "model_module": "@jupyter-widgets/base",
     "model_module_version": "1.2.0",
     "model_name": "LayoutModel",
     "state": {
      "_model_module": "@jupyter-widgets/base",
      "_model_module_version": "1.2.0",
      "_model_name": "LayoutModel",
      "_view_count": null,
      "_view_module": "@jupyter-widgets/base",
      "_view_module_version": "1.2.0",
      "_view_name": "LayoutView",
      "align_content": null,
      "align_items": null,
      "align_self": null,
      "border": null,
      "bottom": null,
      "display": null,
      "flex": null,
      "flex_flow": null,
      "grid_area": null,
      "grid_auto_columns": null,
      "grid_auto_flow": null,
      "grid_auto_rows": null,
      "grid_column": null,
      "grid_gap": null,
      "grid_row": null,
      "grid_template_areas": null,
      "grid_template_columns": null,
      "grid_template_rows": null,
      "height": null,
      "justify_content": null,
      "justify_items": null,
      "left": null,
      "margin": null,
      "max_height": null,
      "max_width": null,
      "min_height": null,
      "min_width": null,
      "object_fit": null,
      "object_position": null,
      "order": null,
      "overflow": null,
      "overflow_x": null,
      "overflow_y": null,
      "padding": null,
      "right": null,
      "top": null,
      "visibility": null,
      "width": null
     }
    },
    "6c1a7e5e7df84edeb5f84cececb689c9": {
     "model_module": "@jupyter-widgets/controls",
     "model_module_version": "1.5.0",
     "model_name": "DescriptionStyleModel",
     "state": {
      "_model_module": "@jupyter-widgets/controls",
      "_model_module_version": "1.5.0",
      "_model_name": "DescriptionStyleModel",
      "_view_count": null,
      "_view_module": "@jupyter-widgets/base",
      "_view_module_version": "1.2.0",
      "_view_name": "StyleView",
      "description_width": ""
     }
    },
    "8408c3c3443e49baa6974bd01fbfc021": {
     "model_module": "@jupyter-widgets/controls",
     "model_module_version": "1.5.0",
     "model_name": "HBoxModel",
     "state": {
      "_dom_classes": [],
      "_model_module": "@jupyter-widgets/controls",
      "_model_module_version": "1.5.0",
      "_model_name": "HBoxModel",
      "_view_count": null,
      "_view_module": "@jupyter-widgets/controls",
      "_view_module_version": "1.5.0",
      "_view_name": "HBoxView",
      "box_style": "",
      "children": [
       "IPY_MODEL_31ce4630cd5d43cd9677f4698582d2eb",
       "IPY_MODEL_9bc19106d68e4832ae1e38edef7fdf3a",
       "IPY_MODEL_2a0a98942ae148ed92f1ee8642388385"
      ],
      "layout": "IPY_MODEL_e8ee62c262a842e49d975cfd085e1e73"
     }
    },
    "8b1537d0f7a84400a7fe99b9e3b2d608": {
     "model_module": "@jupyter-widgets/controls",
     "model_module_version": "1.5.0",
     "model_name": "ProgressStyleModel",
     "state": {
      "_model_module": "@jupyter-widgets/controls",
      "_model_module_version": "1.5.0",
      "_model_name": "ProgressStyleModel",
      "_view_count": null,
      "_view_module": "@jupyter-widgets/base",
      "_view_module_version": "1.2.0",
      "_view_name": "StyleView",
      "bar_color": null,
      "description_width": ""
     }
    },
    "8d2a10b2f7cf4d8fb26c600798963d23": {
     "model_module": "@jupyter-widgets/controls",
     "model_module_version": "1.5.0",
     "model_name": "DescriptionStyleModel",
     "state": {
      "_model_module": "@jupyter-widgets/controls",
      "_model_module_version": "1.5.0",
      "_model_name": "DescriptionStyleModel",
      "_view_count": null,
      "_view_module": "@jupyter-widgets/base",
      "_view_module_version": "1.2.0",
      "_view_name": "StyleView",
      "description_width": ""
     }
    },
    "95c57a958ef14e61bcf301db83be7035": {
     "model_module": "@jupyter-widgets/controls",
     "model_module_version": "1.5.0",
     "model_name": "HTMLModel",
     "state": {
      "_dom_classes": [],
      "_model_module": "@jupyter-widgets/controls",
      "_model_module_version": "1.5.0",
      "_model_name": "HTMLModel",
      "_view_count": null,
      "_view_module": "@jupyter-widgets/controls",
      "_view_module_version": "1.5.0",
      "_view_name": "HTMLView",
      "description": "",
      "description_tooltip": null,
      "layout": "IPY_MODEL_38f8a88a548d493094008b2a9aa1bbe3",
      "placeholder": "​",
      "style": "IPY_MODEL_cca167a3059c45a096e70309b35a8174",
      "value": " 10000/10000 [00:08&lt;00:00, 1567.93it/s]"
     }
    },
    "961e2711fdd446318df0b6fdc56c736d": {
     "model_module": "@jupyter-widgets/controls",
     "model_module_version": "1.5.0",
     "model_name": "HTMLModel",
     "state": {
      "_dom_classes": [],
      "_model_module": "@jupyter-widgets/controls",
      "_model_module_version": "1.5.0",
      "_model_name": "HTMLModel",
      "_view_count": null,
      "_view_module": "@jupyter-widgets/controls",
      "_view_module_version": "1.5.0",
      "_view_name": "HTMLView",
      "description": "",
      "description_tooltip": null,
      "layout": "IPY_MODEL_599dc6ad8e47480b80c792ea9f9e3489",
      "placeholder": "​",
      "style": "IPY_MODEL_8d2a10b2f7cf4d8fb26c600798963d23",
      "value": "100%"
     }
    },
    "9bc19106d68e4832ae1e38edef7fdf3a": {
     "model_module": "@jupyter-widgets/controls",
     "model_module_version": "1.5.0",
     "model_name": "FloatProgressModel",
     "state": {
      "_dom_classes": [],
      "_model_module": "@jupyter-widgets/controls",
      "_model_module_version": "1.5.0",
      "_model_name": "FloatProgressModel",
      "_view_count": null,
      "_view_module": "@jupyter-widgets/controls",
      "_view_module_version": "1.5.0",
      "_view_name": "ProgressView",
      "bar_style": "success",
      "description": "",
      "description_tooltip": null,
      "layout": "IPY_MODEL_21e074d326574f88bc4a5a50888818d8",
      "max": 10000,
      "min": 0,
      "orientation": "horizontal",
      "style": "IPY_MODEL_8b1537d0f7a84400a7fe99b9e3b2d608",
      "value": 10000
     }
    },
    "9fae0d340fb345bb8eb2e512b7843649": {
     "model_module": "@jupyter-widgets/controls",
     "model_module_version": "1.5.0",
     "model_name": "FloatProgressModel",
     "state": {
      "_dom_classes": [],
      "_model_module": "@jupyter-widgets/controls",
      "_model_module_version": "1.5.0",
      "_model_name": "FloatProgressModel",
      "_view_count": null,
      "_view_module": "@jupyter-widgets/controls",
      "_view_module_version": "1.5.0",
      "_view_name": "ProgressView",
      "bar_style": "success",
      "description": "",
      "description_tooltip": null,
      "layout": "IPY_MODEL_2d5a7824398e41b6b7981b0d7dde79ae",
      "max": 10000,
      "min": 0,
      "orientation": "horizontal",
      "style": "IPY_MODEL_bd41e9c85b2843ba8d6e012d8b398ba7",
      "value": 10000
     }
    },
    "aaffdd357254466e8bb0f99cba1ef8e6": {
     "model_module": "@jupyter-widgets/controls",
     "model_module_version": "1.5.0",
     "model_name": "ProgressStyleModel",
     "state": {
      "_model_module": "@jupyter-widgets/controls",
      "_model_module_version": "1.5.0",
      "_model_name": "ProgressStyleModel",
      "_view_count": null,
      "_view_module": "@jupyter-widgets/base",
      "_view_module_version": "1.2.0",
      "_view_name": "StyleView",
      "bar_color": null,
      "description_width": ""
     }
    },
    "ac39309509534101ad8c44cccb51947f": {
     "model_module": "@jupyter-widgets/controls",
     "model_module_version": "1.5.0",
     "model_name": "DescriptionStyleModel",
     "state": {
      "_model_module": "@jupyter-widgets/controls",
      "_model_module_version": "1.5.0",
      "_model_name": "DescriptionStyleModel",
      "_view_count": null,
      "_view_module": "@jupyter-widgets/base",
      "_view_module_version": "1.2.0",
      "_view_name": "StyleView",
      "description_width": ""
     }
    },
    "af0d96f1645148cc8e5f6e8f5798f87c": {
     "model_module": "@jupyter-widgets/controls",
     "model_module_version": "1.5.0",
     "model_name": "DescriptionStyleModel",
     "state": {
      "_model_module": "@jupyter-widgets/controls",
      "_model_module_version": "1.5.0",
      "_model_name": "DescriptionStyleModel",
      "_view_count": null,
      "_view_module": "@jupyter-widgets/base",
      "_view_module_version": "1.2.0",
      "_view_name": "StyleView",
      "description_width": ""
     }
    },
    "af4f41d3289a46baac4ebeaae2fc1a9a": {
     "model_module": "@jupyter-widgets/base",
     "model_module_version": "1.2.0",
     "model_name": "LayoutModel",
     "state": {
      "_model_module": "@jupyter-widgets/base",
      "_model_module_version": "1.2.0",
      "_model_name": "LayoutModel",
      "_view_count": null,
      "_view_module": "@jupyter-widgets/base",
      "_view_module_version": "1.2.0",
      "_view_name": "LayoutView",
      "align_content": null,
      "align_items": null,
      "align_self": null,
      "border": null,
      "bottom": null,
      "display": null,
      "flex": null,
      "flex_flow": null,
      "grid_area": null,
      "grid_auto_columns": null,
      "grid_auto_flow": null,
      "grid_auto_rows": null,
      "grid_column": null,
      "grid_gap": null,
      "grid_row": null,
      "grid_template_areas": null,
      "grid_template_columns": null,
      "grid_template_rows": null,
      "height": null,
      "justify_content": null,
      "justify_items": null,
      "left": null,
      "margin": null,
      "max_height": null,
      "max_width": null,
      "min_height": null,
      "min_width": null,
      "object_fit": null,
      "object_position": null,
      "order": null,
      "overflow": null,
      "overflow_x": null,
      "overflow_y": null,
      "padding": null,
      "right": null,
      "top": null,
      "visibility": null,
      "width": null
     }
    },
    "af7dc81f92b14b188c4ff3bd70e0f9e9": {
     "model_module": "@jupyter-widgets/base",
     "model_module_version": "1.2.0",
     "model_name": "LayoutModel",
     "state": {
      "_model_module": "@jupyter-widgets/base",
      "_model_module_version": "1.2.0",
      "_model_name": "LayoutModel",
      "_view_count": null,
      "_view_module": "@jupyter-widgets/base",
      "_view_module_version": "1.2.0",
      "_view_name": "LayoutView",
      "align_content": null,
      "align_items": null,
      "align_self": null,
      "border": null,
      "bottom": null,
      "display": null,
      "flex": null,
      "flex_flow": null,
      "grid_area": null,
      "grid_auto_columns": null,
      "grid_auto_flow": null,
      "grid_auto_rows": null,
      "grid_column": null,
      "grid_gap": null,
      "grid_row": null,
      "grid_template_areas": null,
      "grid_template_columns": null,
      "grid_template_rows": null,
      "height": null,
      "justify_content": null,
      "justify_items": null,
      "left": null,
      "margin": null,
      "max_height": null,
      "max_width": null,
      "min_height": null,
      "min_width": null,
      "object_fit": null,
      "object_position": null,
      "order": null,
      "overflow": null,
      "overflow_x": null,
      "overflow_y": null,
      "padding": null,
      "right": null,
      "top": null,
      "visibility": null,
      "width": null
     }
    },
    "b0bbbd08a5d14ad58bd46e8ecd8cfa8f": {
     "model_module": "@jupyter-widgets/controls",
     "model_module_version": "1.5.0",
     "model_name": "DescriptionStyleModel",
     "state": {
      "_model_module": "@jupyter-widgets/controls",
      "_model_module_version": "1.5.0",
      "_model_name": "DescriptionStyleModel",
      "_view_count": null,
      "_view_module": "@jupyter-widgets/base",
      "_view_module_version": "1.2.0",
      "_view_name": "StyleView",
      "description_width": ""
     }
    },
    "b7dcb30713874a5f929979fbf2774250": {
     "model_module": "@jupyter-widgets/base",
     "model_module_version": "1.2.0",
     "model_name": "LayoutModel",
     "state": {
      "_model_module": "@jupyter-widgets/base",
      "_model_module_version": "1.2.0",
      "_model_name": "LayoutModel",
      "_view_count": null,
      "_view_module": "@jupyter-widgets/base",
      "_view_module_version": "1.2.0",
      "_view_name": "LayoutView",
      "align_content": null,
      "align_items": null,
      "align_self": null,
      "border": null,
      "bottom": null,
      "display": null,
      "flex": null,
      "flex_flow": null,
      "grid_area": null,
      "grid_auto_columns": null,
      "grid_auto_flow": null,
      "grid_auto_rows": null,
      "grid_column": null,
      "grid_gap": null,
      "grid_row": null,
      "grid_template_areas": null,
      "grid_template_columns": null,
      "grid_template_rows": null,
      "height": null,
      "justify_content": null,
      "justify_items": null,
      "left": null,
      "margin": null,
      "max_height": null,
      "max_width": null,
      "min_height": null,
      "min_width": null,
      "object_fit": null,
      "object_position": null,
      "order": null,
      "overflow": null,
      "overflow_x": null,
      "overflow_y": null,
      "padding": null,
      "right": null,
      "top": null,
      "visibility": null,
      "width": null
     }
    },
    "b81cccb7767a441bbde0b255bfa311d1": {
     "model_module": "@jupyter-widgets/controls",
     "model_module_version": "1.5.0",
     "model_name": "DescriptionStyleModel",
     "state": {
      "_model_module": "@jupyter-widgets/controls",
      "_model_module_version": "1.5.0",
      "_model_name": "DescriptionStyleModel",
      "_view_count": null,
      "_view_module": "@jupyter-widgets/base",
      "_view_module_version": "1.2.0",
      "_view_name": "StyleView",
      "description_width": ""
     }
    },
    "bd41e9c85b2843ba8d6e012d8b398ba7": {
     "model_module": "@jupyter-widgets/controls",
     "model_module_version": "1.5.0",
     "model_name": "ProgressStyleModel",
     "state": {
      "_model_module": "@jupyter-widgets/controls",
      "_model_module_version": "1.5.0",
      "_model_name": "ProgressStyleModel",
      "_view_count": null,
      "_view_module": "@jupyter-widgets/base",
      "_view_module_version": "1.2.0",
      "_view_name": "StyleView",
      "bar_color": null,
      "description_width": ""
     }
    },
    "bd7f5cca7e0546e5bfb86e924c980fbb": {
     "model_module": "@jupyter-widgets/controls",
     "model_module_version": "1.5.0",
     "model_name": "HTMLModel",
     "state": {
      "_dom_classes": [],
      "_model_module": "@jupyter-widgets/controls",
      "_model_module_version": "1.5.0",
      "_model_name": "HTMLModel",
      "_view_count": null,
      "_view_module": "@jupyter-widgets/controls",
      "_view_module_version": "1.5.0",
      "_view_name": "HTMLView",
      "description": "",
      "description_tooltip": null,
      "layout": "IPY_MODEL_1dc5f10a1d8c45b4b1fde0f6461a6caf",
      "placeholder": "​",
      "style": "IPY_MODEL_b0bbbd08a5d14ad58bd46e8ecd8cfa8f",
      "value": " 10000/10000 [00:02&lt;00:00, 4418.60it/s]"
     }
    },
    "c51bb9f2c9a043a98e574933b5e632e4": {
     "model_module": "@jupyter-widgets/base",
     "model_module_version": "1.2.0",
     "model_name": "LayoutModel",
     "state": {
      "_model_module": "@jupyter-widgets/base",
      "_model_module_version": "1.2.0",
      "_model_name": "LayoutModel",
      "_view_count": null,
      "_view_module": "@jupyter-widgets/base",
      "_view_module_version": "1.2.0",
      "_view_name": "LayoutView",
      "align_content": null,
      "align_items": null,
      "align_self": null,
      "border": null,
      "bottom": null,
      "display": null,
      "flex": null,
      "flex_flow": null,
      "grid_area": null,
      "grid_auto_columns": null,
      "grid_auto_flow": null,
      "grid_auto_rows": null,
      "grid_column": null,
      "grid_gap": null,
      "grid_row": null,
      "grid_template_areas": null,
      "grid_template_columns": null,
      "grid_template_rows": null,
      "height": null,
      "justify_content": null,
      "justify_items": null,
      "left": null,
      "margin": null,
      "max_height": null,
      "max_width": null,
      "min_height": null,
      "min_width": null,
      "object_fit": null,
      "object_position": null,
      "order": null,
      "overflow": null,
      "overflow_x": null,
      "overflow_y": null,
      "padding": null,
      "right": null,
      "top": null,
      "visibility": null,
      "width": null
     }
    },
    "ca88d413a9764fe994256ef5533737c9": {
     "model_module": "@jupyter-widgets/controls",
     "model_module_version": "1.5.0",
     "model_name": "ProgressStyleModel",
     "state": {
      "_model_module": "@jupyter-widgets/controls",
      "_model_module_version": "1.5.0",
      "_model_name": "ProgressStyleModel",
      "_view_count": null,
      "_view_module": "@jupyter-widgets/base",
      "_view_module_version": "1.2.0",
      "_view_name": "StyleView",
      "bar_color": null,
      "description_width": ""
     }
    },
    "cca167a3059c45a096e70309b35a8174": {
     "model_module": "@jupyter-widgets/controls",
     "model_module_version": "1.5.0",
     "model_name": "DescriptionStyleModel",
     "state": {
      "_model_module": "@jupyter-widgets/controls",
      "_model_module_version": "1.5.0",
      "_model_name": "DescriptionStyleModel",
      "_view_count": null,
      "_view_module": "@jupyter-widgets/base",
      "_view_module_version": "1.2.0",
      "_view_name": "StyleView",
      "description_width": ""
     }
    },
    "cf2c9560f7be47b98f03caf4b8424196": {
     "model_module": "@jupyter-widgets/base",
     "model_module_version": "1.2.0",
     "model_name": "LayoutModel",
     "state": {
      "_model_module": "@jupyter-widgets/base",
      "_model_module_version": "1.2.0",
      "_model_name": "LayoutModel",
      "_view_count": null,
      "_view_module": "@jupyter-widgets/base",
      "_view_module_version": "1.2.0",
      "_view_name": "LayoutView",
      "align_content": null,
      "align_items": null,
      "align_self": null,
      "border": null,
      "bottom": null,
      "display": null,
      "flex": null,
      "flex_flow": null,
      "grid_area": null,
      "grid_auto_columns": null,
      "grid_auto_flow": null,
      "grid_auto_rows": null,
      "grid_column": null,
      "grid_gap": null,
      "grid_row": null,
      "grid_template_areas": null,
      "grid_template_columns": null,
      "grid_template_rows": null,
      "height": null,
      "justify_content": null,
      "justify_items": null,
      "left": null,
      "margin": null,
      "max_height": null,
      "max_width": null,
      "min_height": null,
      "min_width": null,
      "object_fit": null,
      "object_position": null,
      "order": null,
      "overflow": null,
      "overflow_x": null,
      "overflow_y": null,
      "padding": null,
      "right": null,
      "top": null,
      "visibility": null,
      "width": null
     }
    },
    "d17af50e516d4da980a0f9ec8451d442": {
     "model_module": "@jupyter-widgets/controls",
     "model_module_version": "1.5.0",
     "model_name": "DescriptionStyleModel",
     "state": {
      "_model_module": "@jupyter-widgets/controls",
      "_model_module_version": "1.5.0",
      "_model_name": "DescriptionStyleModel",
      "_view_count": null,
      "_view_module": "@jupyter-widgets/base",
      "_view_module_version": "1.2.0",
      "_view_name": "StyleView",
      "description_width": ""
     }
    },
    "e0d36298f5d04e6fa3a4186ecda9c36c": {
     "model_module": "@jupyter-widgets/controls",
     "model_module_version": "1.5.0",
     "model_name": "HBoxModel",
     "state": {
      "_dom_classes": [],
      "_model_module": "@jupyter-widgets/controls",
      "_model_module_version": "1.5.0",
      "_model_name": "HBoxModel",
      "_view_count": null,
      "_view_module": "@jupyter-widgets/controls",
      "_view_module_version": "1.5.0",
      "_view_name": "HBoxView",
      "box_style": "",
      "children": [
       "IPY_MODEL_211531ef39174337a90c4cd80990f8ab",
       "IPY_MODEL_014d326a0ea74f3295dcf525aeed1e34",
       "IPY_MODEL_95c57a958ef14e61bcf301db83be7035"
      ],
      "layout": "IPY_MODEL_f7a707dea0be47e393968d5c2343a808"
     }
    },
    "e365e43353674afe96f8eb291511c8e7": {
     "model_module": "@jupyter-widgets/controls",
     "model_module_version": "1.5.0",
     "model_name": "HBoxModel",
     "state": {
      "_dom_classes": [],
      "_model_module": "@jupyter-widgets/controls",
      "_model_module_version": "1.5.0",
      "_model_name": "HBoxModel",
      "_view_count": null,
      "_view_module": "@jupyter-widgets/controls",
      "_view_module_version": "1.5.0",
      "_view_name": "HBoxView",
      "box_style": "",
      "children": [
       "IPY_MODEL_ef7c243bf02441209d43e21b0d175ed6",
       "IPY_MODEL_0b963fd274ed408ab77d40a25e5bd6ce",
       "IPY_MODEL_ff07c6f3e3cb430c93cde6cf9341778a"
      ],
      "layout": "IPY_MODEL_b7dcb30713874a5f929979fbf2774250"
     }
    },
    "e8ee62c262a842e49d975cfd085e1e73": {
     "model_module": "@jupyter-widgets/base",
     "model_module_version": "1.2.0",
     "model_name": "LayoutModel",
     "state": {
      "_model_module": "@jupyter-widgets/base",
      "_model_module_version": "1.2.0",
      "_model_name": "LayoutModel",
      "_view_count": null,
      "_view_module": "@jupyter-widgets/base",
      "_view_module_version": "1.2.0",
      "_view_name": "LayoutView",
      "align_content": null,
      "align_items": null,
      "align_self": null,
      "border": null,
      "bottom": null,
      "display": null,
      "flex": null,
      "flex_flow": null,
      "grid_area": null,
      "grid_auto_columns": null,
      "grid_auto_flow": null,
      "grid_auto_rows": null,
      "grid_column": null,
      "grid_gap": null,
      "grid_row": null,
      "grid_template_areas": null,
      "grid_template_columns": null,
      "grid_template_rows": null,
      "height": null,
      "justify_content": null,
      "justify_items": null,
      "left": null,
      "margin": null,
      "max_height": null,
      "max_width": null,
      "min_height": null,
      "min_width": null,
      "object_fit": null,
      "object_position": null,
      "order": null,
      "overflow": null,
      "overflow_x": null,
      "overflow_y": null,
      "padding": null,
      "right": null,
      "top": null,
      "visibility": null,
      "width": null
     }
    },
    "ef7c243bf02441209d43e21b0d175ed6": {
     "model_module": "@jupyter-widgets/controls",
     "model_module_version": "1.5.0",
     "model_name": "HTMLModel",
     "state": {
      "_dom_classes": [],
      "_model_module": "@jupyter-widgets/controls",
      "_model_module_version": "1.5.0",
      "_model_name": "HTMLModel",
      "_view_count": null,
      "_view_module": "@jupyter-widgets/controls",
      "_view_module_version": "1.5.0",
      "_view_name": "HTMLView",
      "description": "",
      "description_tooltip": null,
      "layout": "IPY_MODEL_af4f41d3289a46baac4ebeaae2fc1a9a",
      "placeholder": "​",
      "style": "IPY_MODEL_ac39309509534101ad8c44cccb51947f",
      "value": "100%"
     }
    },
    "f01bce7b62ba432d9120497ec8eb2d2a": {
     "model_module": "@jupyter-widgets/base",
     "model_module_version": "1.2.0",
     "model_name": "LayoutModel",
     "state": {
      "_model_module": "@jupyter-widgets/base",
      "_model_module_version": "1.2.0",
      "_model_name": "LayoutModel",
      "_view_count": null,
      "_view_module": "@jupyter-widgets/base",
      "_view_module_version": "1.2.0",
      "_view_name": "LayoutView",
      "align_content": null,
      "align_items": null,
      "align_self": null,
      "border": null,
      "bottom": null,
      "display": null,
      "flex": null,
      "flex_flow": null,
      "grid_area": null,
      "grid_auto_columns": null,
      "grid_auto_flow": null,
      "grid_auto_rows": null,
      "grid_column": null,
      "grid_gap": null,
      "grid_row": null,
      "grid_template_areas": null,
      "grid_template_columns": null,
      "grid_template_rows": null,
      "height": null,
      "justify_content": null,
      "justify_items": null,
      "left": null,
      "margin": null,
      "max_height": null,
      "max_width": null,
      "min_height": null,
      "min_width": null,
      "object_fit": null,
      "object_position": null,
      "order": null,
      "overflow": null,
      "overflow_x": null,
      "overflow_y": null,
      "padding": null,
      "right": null,
      "top": null,
      "visibility": null,
      "width": null
     }
    },
    "f0b0b682868d46c6a000af5422911d95": {
     "model_module": "@jupyter-widgets/base",
     "model_module_version": "1.2.0",
     "model_name": "LayoutModel",
     "state": {
      "_model_module": "@jupyter-widgets/base",
      "_model_module_version": "1.2.0",
      "_model_name": "LayoutModel",
      "_view_count": null,
      "_view_module": "@jupyter-widgets/base",
      "_view_module_version": "1.2.0",
      "_view_name": "LayoutView",
      "align_content": null,
      "align_items": null,
      "align_self": null,
      "border": null,
      "bottom": null,
      "display": null,
      "flex": null,
      "flex_flow": null,
      "grid_area": null,
      "grid_auto_columns": null,
      "grid_auto_flow": null,
      "grid_auto_rows": null,
      "grid_column": null,
      "grid_gap": null,
      "grid_row": null,
      "grid_template_areas": null,
      "grid_template_columns": null,
      "grid_template_rows": null,
      "height": null,
      "justify_content": null,
      "justify_items": null,
      "left": null,
      "margin": null,
      "max_height": null,
      "max_width": null,
      "min_height": null,
      "min_width": null,
      "object_fit": null,
      "object_position": null,
      "order": null,
      "overflow": null,
      "overflow_x": null,
      "overflow_y": null,
      "padding": null,
      "right": null,
      "top": null,
      "visibility": null,
      "width": null
     }
    },
    "f779387b61fc43d9810eaf87a969710b": {
     "model_module": "@jupyter-widgets/base",
     "model_module_version": "1.2.0",
     "model_name": "LayoutModel",
     "state": {
      "_model_module": "@jupyter-widgets/base",
      "_model_module_version": "1.2.0",
      "_model_name": "LayoutModel",
      "_view_count": null,
      "_view_module": "@jupyter-widgets/base",
      "_view_module_version": "1.2.0",
      "_view_name": "LayoutView",
      "align_content": null,
      "align_items": null,
      "align_self": null,
      "border": null,
      "bottom": null,
      "display": null,
      "flex": null,
      "flex_flow": null,
      "grid_area": null,
      "grid_auto_columns": null,
      "grid_auto_flow": null,
      "grid_auto_rows": null,
      "grid_column": null,
      "grid_gap": null,
      "grid_row": null,
      "grid_template_areas": null,
      "grid_template_columns": null,
      "grid_template_rows": null,
      "height": null,
      "justify_content": null,
      "justify_items": null,
      "left": null,
      "margin": null,
      "max_height": null,
      "max_width": null,
      "min_height": null,
      "min_width": null,
      "object_fit": null,
      "object_position": null,
      "order": null,
      "overflow": null,
      "overflow_x": null,
      "overflow_y": null,
      "padding": null,
      "right": null,
      "top": null,
      "visibility": null,
      "width": null
     }
    },
    "f7a707dea0be47e393968d5c2343a808": {
     "model_module": "@jupyter-widgets/base",
     "model_module_version": "1.2.0",
     "model_name": "LayoutModel",
     "state": {
      "_model_module": "@jupyter-widgets/base",
      "_model_module_version": "1.2.0",
      "_model_name": "LayoutModel",
      "_view_count": null,
      "_view_module": "@jupyter-widgets/base",
      "_view_module_version": "1.2.0",
      "_view_name": "LayoutView",
      "align_content": null,
      "align_items": null,
      "align_self": null,
      "border": null,
      "bottom": null,
      "display": null,
      "flex": null,
      "flex_flow": null,
      "grid_area": null,
      "grid_auto_columns": null,
      "grid_auto_flow": null,
      "grid_auto_rows": null,
      "grid_column": null,
      "grid_gap": null,
      "grid_row": null,
      "grid_template_areas": null,
      "grid_template_columns": null,
      "grid_template_rows": null,
      "height": null,
      "justify_content": null,
      "justify_items": null,
      "left": null,
      "margin": null,
      "max_height": null,
      "max_width": null,
      "min_height": null,
      "min_width": null,
      "object_fit": null,
      "object_position": null,
      "order": null,
      "overflow": null,
      "overflow_x": null,
      "overflow_y": null,
      "padding": null,
      "right": null,
      "top": null,
      "visibility": null,
      "width": null
     }
    },
    "f80d2b1874e5416a9812ffccfd5bd576": {
     "model_module": "@jupyter-widgets/controls",
     "model_module_version": "1.5.0",
     "model_name": "FloatProgressModel",
     "state": {
      "_dom_classes": [],
      "_model_module": "@jupyter-widgets/controls",
      "_model_module_version": "1.5.0",
      "_model_name": "FloatProgressModel",
      "_view_count": null,
      "_view_module": "@jupyter-widgets/controls",
      "_view_module_version": "1.5.0",
      "_view_name": "ProgressView",
      "bar_style": "success",
      "description": "",
      "description_tooltip": null,
      "layout": "IPY_MODEL_0df8685dccfc437bac90b5389bf1360e",
      "max": 10000,
      "min": 0,
      "orientation": "horizontal",
      "style": "IPY_MODEL_aaffdd357254466e8bb0f99cba1ef8e6",
      "value": 10000
     }
    },
    "ff07c6f3e3cb430c93cde6cf9341778a": {
     "model_module": "@jupyter-widgets/controls",
     "model_module_version": "1.5.0",
     "model_name": "HTMLModel",
     "state": {
      "_dom_classes": [],
      "_model_module": "@jupyter-widgets/controls",
      "_model_module_version": "1.5.0",
      "_model_name": "HTMLModel",
      "_view_count": null,
      "_view_module": "@jupyter-widgets/controls",
      "_view_module_version": "1.5.0",
      "_view_name": "HTMLView",
      "description": "",
      "description_tooltip": null,
      "layout": "IPY_MODEL_af7dc81f92b14b188c4ff3bd70e0f9e9",
      "placeholder": "​",
      "style": "IPY_MODEL_36e5c48cfe4f4fd4a5396f50ec3265c0",
      "value": " 10000/10000 [00:02&lt;00:00, 4860.62it/s]"
     }
    }
   }
  }
 },
 "nbformat": 4,
 "nbformat_minor": 1
}
